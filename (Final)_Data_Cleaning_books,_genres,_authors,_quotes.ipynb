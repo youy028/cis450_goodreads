{
  "nbformat": 4,
  "nbformat_minor": 0,
  "metadata": {
    "colab": {
      "name": "(Final) Data Cleaning: books, genres, authors, quotes.ipynb",
      "provenance": [],
      "collapsed_sections": [],
      "toc_visible": true
    },
    "kernelspec": {
      "name": "python3",
      "display_name": "Python 3"
    }
  },
  "cells": [
    {
      "cell_type": "markdown",
      "metadata": {
        "id": "nZn3-Tog5AdP"
      },
      "source": [
        "# cis550 final project data cleaning\n",
        "\n",
        "Data cleaning done by Estee and Catherine.\n",
        "\n",
        "Main steps taken for data cleaning:\n",
        "\n"
      ]
    },
    {
      "cell_type": "code",
      "metadata": {
        "id": "zotF3eut_xtZ",
        "colab": {
          "base_uri": "https://localhost:8080/"
        },
        "outputId": "9a756012-5a7c-4b75-f56a-f57027243893"
      },
      "source": [
        "! pip install -U pandasql\n",
        "import numpy as np\n",
        "import pandas as pd\n",
        "import pandasql as ps\n"
      ],
      "execution_count": null,
      "outputs": [
        {
          "output_type": "stream",
          "text": [
            "Collecting pandasql\n",
            "  Downloading https://files.pythonhosted.org/packages/6b/c4/ee4096ffa2eeeca0c749b26f0371bd26aa5c8b611c43de99a4f86d3de0a7/pandasql-0.7.3.tar.gz\n",
            "Requirement already satisfied, skipping upgrade: numpy in /usr/local/lib/python3.7/dist-packages (from pandasql) (1.19.5)\n",
            "Requirement already satisfied, skipping upgrade: pandas in /usr/local/lib/python3.7/dist-packages (from pandasql) (1.1.5)\n",
            "Requirement already satisfied, skipping upgrade: sqlalchemy in /usr/local/lib/python3.7/dist-packages (from pandasql) (1.3.23)\n",
            "Requirement already satisfied, skipping upgrade: pytz>=2017.2 in /usr/local/lib/python3.7/dist-packages (from pandas->pandasql) (2018.9)\n",
            "Requirement already satisfied, skipping upgrade: python-dateutil>=2.7.3 in /usr/local/lib/python3.7/dist-packages (from pandas->pandasql) (2.8.1)\n",
            "Requirement already satisfied, skipping upgrade: six>=1.5 in /usr/local/lib/python3.7/dist-packages (from python-dateutil>=2.7.3->pandas->pandasql) (1.15.0)\n",
            "Building wheels for collected packages: pandasql\n",
            "  Building wheel for pandasql (setup.py) ... \u001b[?25l\u001b[?25hdone\n",
            "  Created wheel for pandasql: filename=pandasql-0.7.3-cp37-none-any.whl size=26820 sha256=54fb194dd1f9b3a07d73d0a8abdebe7f6b4651bf15005ab05400b290a0c0c453\n",
            "  Stored in directory: /root/.cache/pip/wheels/53/6c/18/b87a2e5fa8a82e9c026311de56210b8d1c01846e18a9607fc9\n",
            "Successfully built pandasql\n",
            "Installing collected packages: pandasql\n",
            "Successfully installed pandasql-0.7.3\n"
          ],
          "name": "stdout"
        }
      ]
    },
    {
      "cell_type": "code",
      "metadata": {
        "colab": {
          "base_uri": "https://localhost:8080/"
        },
        "id": "0YJldW9rkZQ6",
        "outputId": "52ea489b-a05f-4a74-cf4b-ba5e8d62b7b3"
      },
      "source": [
        "from google.colab import drive\n",
        "drive.mount('/content/drive')"
      ],
      "execution_count": null,
      "outputs": [
        {
          "output_type": "stream",
          "text": [
            "Mounted at /content/drive\n"
          ],
          "name": "stdout"
        }
      ]
    },
    {
      "cell_type": "code",
      "metadata": {
        "id": "aGcR8lIj4URR",
        "colab": {
          "base_uri": "https://localhost:8080/",
          "height": 1000
        },
        "outputId": "f00bca5b-b1c4-4411-9b92-e7a94f8c7fe0"
      },
      "source": [
        "# import data\n",
        "\n",
        "grdf = pd.read_csv('/content/drive/My Drive/CIS550 Final Project/goodreads_book_data.csv', header=0)\n",
        "grdf\n"
      ],
      "execution_count": null,
      "outputs": [
        {
          "output_type": "execute_result",
          "data": {
            "text/html": [
              "<div>\n",
              "<style scoped>\n",
              "    .dataframe tbody tr th:only-of-type {\n",
              "        vertical-align: middle;\n",
              "    }\n",
              "\n",
              "    .dataframe tbody tr th {\n",
              "        vertical-align: top;\n",
              "    }\n",
              "\n",
              "    .dataframe thead th {\n",
              "        text-align: right;\n",
              "    }\n",
              "</style>\n",
              "<table border=\"1\" class=\"dataframe\">\n",
              "  <thead>\n",
              "    <tr style=\"text-align: right;\">\n",
              "      <th></th>\n",
              "      <th>book_authors</th>\n",
              "      <th>book_desc</th>\n",
              "      <th>book_edition</th>\n",
              "      <th>book_format</th>\n",
              "      <th>book_isbn</th>\n",
              "      <th>book_pages</th>\n",
              "      <th>book_rating</th>\n",
              "      <th>book_rating_count</th>\n",
              "      <th>book_review_count</th>\n",
              "      <th>book_title</th>\n",
              "      <th>genres</th>\n",
              "      <th>image_url</th>\n",
              "    </tr>\n",
              "  </thead>\n",
              "  <tbody>\n",
              "    <tr>\n",
              "      <th>0</th>\n",
              "      <td>Suzanne Collins</td>\n",
              "      <td>Winning will make you famous. Losing means cer...</td>\n",
              "      <td>NaN</td>\n",
              "      <td>Hardcover</td>\n",
              "      <td>9.78044E+12</td>\n",
              "      <td>374 pages</td>\n",
              "      <td>4.33</td>\n",
              "      <td>5519135</td>\n",
              "      <td>160706</td>\n",
              "      <td>The Hunger Games</td>\n",
              "      <td>Young Adult|Fiction|Science Fiction|Dystopia|F...</td>\n",
              "      <td>https://images.gr-assets.com/books/1447303603l...</td>\n",
              "    </tr>\n",
              "    <tr>\n",
              "      <th>1</th>\n",
              "      <td>J.K. Rowling|Mary GrandPré</td>\n",
              "      <td>There is a door at the end of a silent corrido...</td>\n",
              "      <td>US Edition</td>\n",
              "      <td>Paperback</td>\n",
              "      <td>9.78044E+12</td>\n",
              "      <td>870 pages</td>\n",
              "      <td>4.48</td>\n",
              "      <td>2041594</td>\n",
              "      <td>33264</td>\n",
              "      <td>Harry Potter and the Order of the Phoenix</td>\n",
              "      <td>Fantasy|Young Adult|Fiction</td>\n",
              "      <td>https://images.gr-assets.com/books/1255614970l...</td>\n",
              "    </tr>\n",
              "    <tr>\n",
              "      <th>2</th>\n",
              "      <td>Harper Lee</td>\n",
              "      <td>The unforgettable novel of a childhood in a sl...</td>\n",
              "      <td>50th Anniversary</td>\n",
              "      <td>Paperback</td>\n",
              "      <td>9.78006E+12</td>\n",
              "      <td>324 pages</td>\n",
              "      <td>4.27</td>\n",
              "      <td>3745197</td>\n",
              "      <td>79450</td>\n",
              "      <td>To Kill a Mockingbird</td>\n",
              "      <td>Classics|Fiction|Historical|Historical Fiction...</td>\n",
              "      <td>https://images.gr-assets.com/books/1361975680l...</td>\n",
              "    </tr>\n",
              "    <tr>\n",
              "      <th>3</th>\n",
              "      <td>Jane Austen|Anna Quindlen|Mrs. Oliphant|George...</td>\n",
              "      <td>«È cosa ormai risaputa che a uno scapolo in po...</td>\n",
              "      <td>Modern Library Classics, USA / CAN</td>\n",
              "      <td>Paperback</td>\n",
              "      <td>9.78068E+12</td>\n",
              "      <td>279 pages</td>\n",
              "      <td>4.25</td>\n",
              "      <td>2453620</td>\n",
              "      <td>54322</td>\n",
              "      <td>Pride and Prejudice</td>\n",
              "      <td>Classics|Fiction|Romance</td>\n",
              "      <td>https://images.gr-assets.com/books/1320399351l...</td>\n",
              "    </tr>\n",
              "    <tr>\n",
              "      <th>4</th>\n",
              "      <td>Stephenie Meyer</td>\n",
              "      <td>About three things I was absolutely positive.F...</td>\n",
              "      <td>NaN</td>\n",
              "      <td>Paperback</td>\n",
              "      <td>9.78032E+12</td>\n",
              "      <td>498 pages</td>\n",
              "      <td>3.58</td>\n",
              "      <td>4281268</td>\n",
              "      <td>97991</td>\n",
              "      <td>Twilight</td>\n",
              "      <td>Young Adult|Fantasy|Romance|Paranormal|Vampire...</td>\n",
              "      <td>https://images.gr-assets.com/books/1361039443l...</td>\n",
              "    </tr>\n",
              "    <tr>\n",
              "      <th>...</th>\n",
              "      <td>...</td>\n",
              "      <td>...</td>\n",
              "      <td>...</td>\n",
              "      <td>...</td>\n",
              "      <td>...</td>\n",
              "      <td>...</td>\n",
              "      <td>...</td>\n",
              "      <td>...</td>\n",
              "      <td>...</td>\n",
              "      <td>...</td>\n",
              "      <td>...</td>\n",
              "      <td>...</td>\n",
              "    </tr>\n",
              "    <tr>\n",
              "      <th>54296</th>\n",
              "      <td>Howard Megdal</td>\n",
              "      <td>In this fearless and half-crazy story, Howard ...</td>\n",
              "      <td>NaN</td>\n",
              "      <td>Hardcover</td>\n",
              "      <td>9.78161E+12</td>\n",
              "      <td>256 pages</td>\n",
              "      <td>3.37</td>\n",
              "      <td>27</td>\n",
              "      <td>9</td>\n",
              "      <td>Taking the Field: A Fan's Quest to Run the Tea...</td>\n",
              "      <td>Sports|Baseball|Sports and Games|Sports|Nonfic...</td>\n",
              "      <td>https://images.gr-assets.com/books/1312074392l...</td>\n",
              "    </tr>\n",
              "    <tr>\n",
              "      <th>54297</th>\n",
              "      <td>Howard Megdal</td>\n",
              "      <td>From the icons of the game to the players who ...</td>\n",
              "      <td>NaN</td>\n",
              "      <td>Hardcover</td>\n",
              "      <td>9.78006E+12</td>\n",
              "      <td>256 pages</td>\n",
              "      <td>3.97</td>\n",
              "      <td>34</td>\n",
              "      <td>5</td>\n",
              "      <td>The Baseball Talmud: Koufax, Greenberg, and th...</td>\n",
              "      <td>Nonfiction|Sports and Games|Sports</td>\n",
              "      <td>https://images.gr-assets.com/books/1348841629l...</td>\n",
              "    </tr>\n",
              "    <tr>\n",
              "      <th>54298</th>\n",
              "      <td>Howard Megdal</td>\n",
              "      <td>NaN</td>\n",
              "      <td>NaN</td>\n",
              "      <td>Kindle Edition</td>\n",
              "      <td>NaN</td>\n",
              "      <td>NaN</td>\n",
              "      <td>3.66</td>\n",
              "      <td>32</td>\n",
              "      <td>3</td>\n",
              "      <td>Wilpon's Folly - The Story of a Man, His Fortu...</td>\n",
              "      <td>Sports|Baseball|Abandoned</td>\n",
              "      <td>https://images.gr-assets.com/books/1394277097l...</td>\n",
              "    </tr>\n",
              "    <tr>\n",
              "      <th>54299</th>\n",
              "      <td>Mimi Baird|Eve Claxton</td>\n",
              "      <td>Soon to be a major motion picture, from Brad P...</td>\n",
              "      <td>NaN</td>\n",
              "      <td>Hardcover</td>\n",
              "      <td>9.7808E+12</td>\n",
              "      <td>272 pages</td>\n",
              "      <td>3.82</td>\n",
              "      <td>867</td>\n",
              "      <td>187</td>\n",
              "      <td>He Wanted the Moon: The Madness and Medical Ge...</td>\n",
              "      <td>Nonfiction|Autobiography|Memoir|Biography|Psyc...</td>\n",
              "      <td>https://images.gr-assets.com/books/1403192135l...</td>\n",
              "    </tr>\n",
              "    <tr>\n",
              "      <th>54300</th>\n",
              "      <td>Leah Price</td>\n",
              "      <td>The Anthology and the Rise of the Novel brings...</td>\n",
              "      <td>NaN</td>\n",
              "      <td>Paperback</td>\n",
              "      <td>9.78052E+12</td>\n",
              "      <td>236 pages</td>\n",
              "      <td>3.58</td>\n",
              "      <td>12</td>\n",
              "      <td>3</td>\n",
              "      <td>The Anthology and the Rise of the Novel: From ...</td>\n",
              "      <td>Criticism|Literary Criticism|Philosophy|Theory...</td>\n",
              "      <td>https://images.gr-assets.com/books/1349014225l...</td>\n",
              "    </tr>\n",
              "  </tbody>\n",
              "</table>\n",
              "<p>54301 rows × 12 columns</p>\n",
              "</div>"
            ],
            "text/plain": [
              "                                            book_authors  ...                                          image_url\n",
              "0                                        Suzanne Collins  ...  https://images.gr-assets.com/books/1447303603l...\n",
              "1                             J.K. Rowling|Mary GrandPré  ...  https://images.gr-assets.com/books/1255614970l...\n",
              "2                                             Harper Lee  ...  https://images.gr-assets.com/books/1361975680l...\n",
              "3      Jane Austen|Anna Quindlen|Mrs. Oliphant|George...  ...  https://images.gr-assets.com/books/1320399351l...\n",
              "4                                        Stephenie Meyer  ...  https://images.gr-assets.com/books/1361039443l...\n",
              "...                                                  ...  ...                                                ...\n",
              "54296                                      Howard Megdal  ...  https://images.gr-assets.com/books/1312074392l...\n",
              "54297                                      Howard Megdal  ...  https://images.gr-assets.com/books/1348841629l...\n",
              "54298                                      Howard Megdal  ...  https://images.gr-assets.com/books/1394277097l...\n",
              "54299                             Mimi Baird|Eve Claxton  ...  https://images.gr-assets.com/books/1403192135l...\n",
              "54300                                         Leah Price  ...  https://images.gr-assets.com/books/1349014225l...\n",
              "\n",
              "[54301 rows x 12 columns]"
            ]
          },
          "metadata": {
            "tags": []
          },
          "execution_count": 3
        }
      ]
    },
    {
      "cell_type": "code",
      "metadata": {
        "colab": {
          "base_uri": "https://localhost:8080/"
        },
        "id": "WgUGo4GReqif",
        "outputId": "a9ab1b9f-aa91-4d12-8c4a-c6d944389e44"
      },
      "source": [
        "grdf.columns"
      ],
      "execution_count": null,
      "outputs": [
        {
          "output_type": "execute_result",
          "data": {
            "text/plain": [
              "Index(['book_authors', 'book_desc', 'book_edition', 'book_format', 'book_isbn',\n",
              "       'book_pages', 'book_rating', 'book_rating_count', 'book_review_count',\n",
              "       'book_title', 'genres', 'image_url'],\n",
              "      dtype='object')"
            ]
          },
          "metadata": {
            "tags": []
          },
          "execution_count": 93
        }
      ]
    },
    {
      "cell_type": "markdown",
      "metadata": {
        "id": "cvrytuxoAaVU"
      },
      "source": [
        "## Part 1: Renaming column names to match ER diagram"
      ]
    },
    {
      "cell_type": "code",
      "metadata": {
        "id": "bpjKO9C3NuK1"
      },
      "source": [
        "grdf_cleaned = grdf.drop(['book_edition', 'book_format', 'book_isbn'], axis=1)\n"
      ],
      "execution_count": null,
      "outputs": []
    },
    {
      "cell_type": "code",
      "metadata": {
        "id": "g0D3kQEfiJuN"
      },
      "source": [
        "# ADD ID COLUMN\n",
        "\n",
        "id = pd.Series(range(1, len(grdf_cleaned) + 1))\n",
        "\n",
        "grdf_cleaned['id'] = id\n",
        "\n"
      ],
      "execution_count": null,
      "outputs": []
    },
    {
      "cell_type": "code",
      "metadata": {
        "id": "U9jvUFtBkfZ9"
      },
      "source": [
        "# rename columns\n",
        "\n",
        "grdf_cleaned.columns = ['authors', 'description', \n",
        "       'page_num', 'rating', 'rating_num', 'review_num',\n",
        "       'title', 'genres', 'image_url', 'id']\n",
        "\n"
      ],
      "execution_count": null,
      "outputs": []
    },
    {
      "cell_type": "code",
      "metadata": {
        "id": "XB-RZxUfjqed",
        "colab": {
          "base_uri": "https://localhost:8080/",
          "height": 997
        },
        "outputId": "9a6c3b89-6c40-41cd-d6be-a97d71542114"
      },
      "source": [
        "grdf_cleaned"
      ],
      "execution_count": null,
      "outputs": [
        {
          "output_type": "execute_result",
          "data": {
            "text/html": [
              "<div>\n",
              "<style scoped>\n",
              "    .dataframe tbody tr th:only-of-type {\n",
              "        vertical-align: middle;\n",
              "    }\n",
              "\n",
              "    .dataframe tbody tr th {\n",
              "        vertical-align: top;\n",
              "    }\n",
              "\n",
              "    .dataframe thead th {\n",
              "        text-align: right;\n",
              "    }\n",
              "</style>\n",
              "<table border=\"1\" class=\"dataframe\">\n",
              "  <thead>\n",
              "    <tr style=\"text-align: right;\">\n",
              "      <th></th>\n",
              "      <th>authors</th>\n",
              "      <th>description</th>\n",
              "      <th>page_num</th>\n",
              "      <th>rating</th>\n",
              "      <th>rating_num</th>\n",
              "      <th>review_num</th>\n",
              "      <th>title</th>\n",
              "      <th>genres</th>\n",
              "      <th>image_url</th>\n",
              "      <th>id</th>\n",
              "    </tr>\n",
              "  </thead>\n",
              "  <tbody>\n",
              "    <tr>\n",
              "      <th>0</th>\n",
              "      <td>Suzanne Collins</td>\n",
              "      <td>Winning will make you famous. Losing means cer...</td>\n",
              "      <td>374 pages</td>\n",
              "      <td>4.33</td>\n",
              "      <td>5519135</td>\n",
              "      <td>160706</td>\n",
              "      <td>The Hunger Games</td>\n",
              "      <td>Young Adult|Fiction|Science Fiction|Dystopia|F...</td>\n",
              "      <td>https://images.gr-assets.com/books/1447303603l...</td>\n",
              "      <td>1</td>\n",
              "    </tr>\n",
              "    <tr>\n",
              "      <th>1</th>\n",
              "      <td>J.K. Rowling|Mary GrandPré</td>\n",
              "      <td>There is a door at the end of a silent corrido...</td>\n",
              "      <td>870 pages</td>\n",
              "      <td>4.48</td>\n",
              "      <td>2041594</td>\n",
              "      <td>33264</td>\n",
              "      <td>Harry Potter and the Order of the Phoenix</td>\n",
              "      <td>Fantasy|Young Adult|Fiction</td>\n",
              "      <td>https://images.gr-assets.com/books/1255614970l...</td>\n",
              "      <td>2</td>\n",
              "    </tr>\n",
              "    <tr>\n",
              "      <th>2</th>\n",
              "      <td>Harper Lee</td>\n",
              "      <td>The unforgettable novel of a childhood in a sl...</td>\n",
              "      <td>324 pages</td>\n",
              "      <td>4.27</td>\n",
              "      <td>3745197</td>\n",
              "      <td>79450</td>\n",
              "      <td>To Kill a Mockingbird</td>\n",
              "      <td>Classics|Fiction|Historical|Historical Fiction...</td>\n",
              "      <td>https://images.gr-assets.com/books/1361975680l...</td>\n",
              "      <td>3</td>\n",
              "    </tr>\n",
              "    <tr>\n",
              "      <th>3</th>\n",
              "      <td>Jane Austen|Anna Quindlen|Mrs. Oliphant|George...</td>\n",
              "      <td>«È cosa ormai risaputa che a uno scapolo in po...</td>\n",
              "      <td>279 pages</td>\n",
              "      <td>4.25</td>\n",
              "      <td>2453620</td>\n",
              "      <td>54322</td>\n",
              "      <td>Pride and Prejudice</td>\n",
              "      <td>Classics|Fiction|Romance</td>\n",
              "      <td>https://images.gr-assets.com/books/1320399351l...</td>\n",
              "      <td>4</td>\n",
              "    </tr>\n",
              "    <tr>\n",
              "      <th>4</th>\n",
              "      <td>Stephenie Meyer</td>\n",
              "      <td>About three things I was absolutely positive.F...</td>\n",
              "      <td>498 pages</td>\n",
              "      <td>3.58</td>\n",
              "      <td>4281268</td>\n",
              "      <td>97991</td>\n",
              "      <td>Twilight</td>\n",
              "      <td>Young Adult|Fantasy|Romance|Paranormal|Vampire...</td>\n",
              "      <td>https://images.gr-assets.com/books/1361039443l...</td>\n",
              "      <td>5</td>\n",
              "    </tr>\n",
              "    <tr>\n",
              "      <th>...</th>\n",
              "      <td>...</td>\n",
              "      <td>...</td>\n",
              "      <td>...</td>\n",
              "      <td>...</td>\n",
              "      <td>...</td>\n",
              "      <td>...</td>\n",
              "      <td>...</td>\n",
              "      <td>...</td>\n",
              "      <td>...</td>\n",
              "      <td>...</td>\n",
              "    </tr>\n",
              "    <tr>\n",
              "      <th>54296</th>\n",
              "      <td>Howard Megdal</td>\n",
              "      <td>In this fearless and half-crazy story, Howard ...</td>\n",
              "      <td>256 pages</td>\n",
              "      <td>3.37</td>\n",
              "      <td>27</td>\n",
              "      <td>9</td>\n",
              "      <td>Taking the Field: A Fan's Quest to Run the Tea...</td>\n",
              "      <td>Sports|Baseball|Sports and Games|Sports|Nonfic...</td>\n",
              "      <td>https://images.gr-assets.com/books/1312074392l...</td>\n",
              "      <td>54297</td>\n",
              "    </tr>\n",
              "    <tr>\n",
              "      <th>54297</th>\n",
              "      <td>Howard Megdal</td>\n",
              "      <td>From the icons of the game to the players who ...</td>\n",
              "      <td>256 pages</td>\n",
              "      <td>3.97</td>\n",
              "      <td>34</td>\n",
              "      <td>5</td>\n",
              "      <td>The Baseball Talmud: Koufax, Greenberg, and th...</td>\n",
              "      <td>Nonfiction|Sports and Games|Sports</td>\n",
              "      <td>https://images.gr-assets.com/books/1348841629l...</td>\n",
              "      <td>54298</td>\n",
              "    </tr>\n",
              "    <tr>\n",
              "      <th>54298</th>\n",
              "      <td>Howard Megdal</td>\n",
              "      <td>NaN</td>\n",
              "      <td>NaN</td>\n",
              "      <td>3.66</td>\n",
              "      <td>32</td>\n",
              "      <td>3</td>\n",
              "      <td>Wilpon's Folly - The Story of a Man, His Fortu...</td>\n",
              "      <td>Sports|Baseball|Abandoned</td>\n",
              "      <td>https://images.gr-assets.com/books/1394277097l...</td>\n",
              "      <td>54299</td>\n",
              "    </tr>\n",
              "    <tr>\n",
              "      <th>54299</th>\n",
              "      <td>Mimi Baird|Eve Claxton</td>\n",
              "      <td>Soon to be a major motion picture, from Brad P...</td>\n",
              "      <td>272 pages</td>\n",
              "      <td>3.82</td>\n",
              "      <td>867</td>\n",
              "      <td>187</td>\n",
              "      <td>He Wanted the Moon: The Madness and Medical Ge...</td>\n",
              "      <td>Nonfiction|Autobiography|Memoir|Biography|Psyc...</td>\n",
              "      <td>https://images.gr-assets.com/books/1403192135l...</td>\n",
              "      <td>54300</td>\n",
              "    </tr>\n",
              "    <tr>\n",
              "      <th>54300</th>\n",
              "      <td>Leah Price</td>\n",
              "      <td>The Anthology and the Rise of the Novel brings...</td>\n",
              "      <td>236 pages</td>\n",
              "      <td>3.58</td>\n",
              "      <td>12</td>\n",
              "      <td>3</td>\n",
              "      <td>The Anthology and the Rise of the Novel: From ...</td>\n",
              "      <td>Criticism|Literary Criticism|Philosophy|Theory...</td>\n",
              "      <td>https://images.gr-assets.com/books/1349014225l...</td>\n",
              "      <td>54301</td>\n",
              "    </tr>\n",
              "  </tbody>\n",
              "</table>\n",
              "<p>54301 rows × 10 columns</p>\n",
              "</div>"
            ],
            "text/plain": [
              "                                                 authors  ...     id\n",
              "0                                        Suzanne Collins  ...      1\n",
              "1                             J.K. Rowling|Mary GrandPré  ...      2\n",
              "2                                             Harper Lee  ...      3\n",
              "3      Jane Austen|Anna Quindlen|Mrs. Oliphant|George...  ...      4\n",
              "4                                        Stephenie Meyer  ...      5\n",
              "...                                                  ...  ...    ...\n",
              "54296                                      Howard Megdal  ...  54297\n",
              "54297                                      Howard Megdal  ...  54298\n",
              "54298                                      Howard Megdal  ...  54299\n",
              "54299                             Mimi Baird|Eve Claxton  ...  54300\n",
              "54300                                         Leah Price  ...  54301\n",
              "\n",
              "[54301 rows x 10 columns]"
            ]
          },
          "metadata": {
            "tags": []
          },
          "execution_count": 7
        }
      ]
    },
    {
      "cell_type": "markdown",
      "metadata": {
        "id": "igm1KIVX_YEl"
      },
      "source": [
        "Save the joined df into a new file, and that's the main \"books\" file we need"
      ]
    },
    {
      "cell_type": "markdown",
      "metadata": {
        "id": "HdLYdHFyNPag"
      },
      "source": [
        "## Part 2: Genre Separation and Indexing"
      ]
    },
    {
      "cell_type": "markdown",
      "metadata": {
        "id": "STUBoi_4MyDe"
      },
      "source": [
        "###2.1\n",
        "take out the genre column of goodreads dataset and the id, and seperates all genres into individual rows with the respective book id. "
      ]
    },
    {
      "cell_type": "code",
      "metadata": {
        "id": "UckplUKwMxGR"
      },
      "source": [
        "# get separate df for genres\n",
        "query = \"\"\"\n",
        "select id, genres\n",
        "from grdf_cleaned\n",
        "\"\"\"\n",
        "\n",
        "genres_original_df = ps.sqldf(query)\n"
      ],
      "execution_count": null,
      "outputs": []
    },
    {
      "cell_type": "code",
      "metadata": {
        "id": "55sHtFdIm0Z1"
      },
      "source": [
        "# split genres into multiple rows\n",
        "\n",
        "genre_df = pd.DataFrame(columns=['book_id', 'genre'])\n",
        "\n",
        "# fill na with \"\"\n",
        "genres_original_df['genres'] = genres_original_df['genres'].fillna(\"\")\n"
      ],
      "execution_count": null,
      "outputs": []
    },
    {
      "cell_type": "code",
      "metadata": {
        "colab": {
          "base_uri": "https://localhost:8080/",
          "height": 419
        },
        "id": "zE833ZXd5mSP",
        "outputId": "d6a8f814-e9a1-42ed-b1b5-5471e2658185"
      },
      "source": [
        "genres_original_df"
      ],
      "execution_count": null,
      "outputs": [
        {
          "output_type": "execute_result",
          "data": {
            "text/html": [
              "<div>\n",
              "<style scoped>\n",
              "    .dataframe tbody tr th:only-of-type {\n",
              "        vertical-align: middle;\n",
              "    }\n",
              "\n",
              "    .dataframe tbody tr th {\n",
              "        vertical-align: top;\n",
              "    }\n",
              "\n",
              "    .dataframe thead th {\n",
              "        text-align: right;\n",
              "    }\n",
              "</style>\n",
              "<table border=\"1\" class=\"dataframe\">\n",
              "  <thead>\n",
              "    <tr style=\"text-align: right;\">\n",
              "      <th></th>\n",
              "      <th>id</th>\n",
              "      <th>genres</th>\n",
              "    </tr>\n",
              "  </thead>\n",
              "  <tbody>\n",
              "    <tr>\n",
              "      <th>0</th>\n",
              "      <td>1</td>\n",
              "      <td>Young Adult|Fiction|Science Fiction|Dystopia|F...</td>\n",
              "    </tr>\n",
              "    <tr>\n",
              "      <th>1</th>\n",
              "      <td>2</td>\n",
              "      <td>Fantasy|Young Adult|Fiction</td>\n",
              "    </tr>\n",
              "    <tr>\n",
              "      <th>2</th>\n",
              "      <td>3</td>\n",
              "      <td>Classics|Fiction|Historical|Historical Fiction...</td>\n",
              "    </tr>\n",
              "    <tr>\n",
              "      <th>3</th>\n",
              "      <td>4</td>\n",
              "      <td>Classics|Fiction|Romance</td>\n",
              "    </tr>\n",
              "    <tr>\n",
              "      <th>4</th>\n",
              "      <td>5</td>\n",
              "      <td>Young Adult|Fantasy|Romance|Paranormal|Vampire...</td>\n",
              "    </tr>\n",
              "    <tr>\n",
              "      <th>...</th>\n",
              "      <td>...</td>\n",
              "      <td>...</td>\n",
              "    </tr>\n",
              "    <tr>\n",
              "      <th>54296</th>\n",
              "      <td>54297</td>\n",
              "      <td>Sports|Baseball|Sports and Games|Sports|Nonfic...</td>\n",
              "    </tr>\n",
              "    <tr>\n",
              "      <th>54297</th>\n",
              "      <td>54298</td>\n",
              "      <td>Nonfiction|Sports and Games|Sports</td>\n",
              "    </tr>\n",
              "    <tr>\n",
              "      <th>54298</th>\n",
              "      <td>54299</td>\n",
              "      <td>Sports|Baseball|Abandoned</td>\n",
              "    </tr>\n",
              "    <tr>\n",
              "      <th>54299</th>\n",
              "      <td>54300</td>\n",
              "      <td>Nonfiction|Autobiography|Memoir|Biography|Psyc...</td>\n",
              "    </tr>\n",
              "    <tr>\n",
              "      <th>54300</th>\n",
              "      <td>54301</td>\n",
              "      <td>Criticism|Literary Criticism|Philosophy|Theory...</td>\n",
              "    </tr>\n",
              "  </tbody>\n",
              "</table>\n",
              "<p>54301 rows × 2 columns</p>\n",
              "</div>"
            ],
            "text/plain": [
              "          id                                             genres\n",
              "0          1  Young Adult|Fiction|Science Fiction|Dystopia|F...\n",
              "1          2                        Fantasy|Young Adult|Fiction\n",
              "2          3  Classics|Fiction|Historical|Historical Fiction...\n",
              "3          4                           Classics|Fiction|Romance\n",
              "4          5  Young Adult|Fantasy|Romance|Paranormal|Vampire...\n",
              "...      ...                                                ...\n",
              "54296  54297  Sports|Baseball|Sports and Games|Sports|Nonfic...\n",
              "54297  54298                 Nonfiction|Sports and Games|Sports\n",
              "54298  54299                          Sports|Baseball|Abandoned\n",
              "54299  54300  Nonfiction|Autobiography|Memoir|Biography|Psyc...\n",
              "54300  54301  Criticism|Literary Criticism|Philosophy|Theory...\n",
              "\n",
              "[54301 rows x 2 columns]"
            ]
          },
          "metadata": {
            "tags": []
          },
          "execution_count": 34
        }
      ]
    },
    {
      "cell_type": "code",
      "metadata": {
        "id": "Xq22YtpYsQbX"
      },
      "source": [
        "\n",
        "genre_df = pd.concat([pd.Series(row['id'], row['genres'].split('|'))              \n",
        "                    for _, row in genres_original_df.iterrows()]).reset_index()"
      ],
      "execution_count": null,
      "outputs": []
    },
    {
      "cell_type": "code",
      "metadata": {
        "id": "58wwpu9Br78F",
        "colab": {
          "base_uri": "https://localhost:8080/",
          "height": 419
        },
        "outputId": "e741013a-649a-4bd1-be82-0c49a48c6214"
      },
      "source": [
        "# print\n",
        "\n",
        "genre_df.columns = ['genre', 'book_id']\n",
        "genre_df"
      ],
      "execution_count": null,
      "outputs": [
        {
          "output_type": "execute_result",
          "data": {
            "text/html": [
              "<div>\n",
              "<style scoped>\n",
              "    .dataframe tbody tr th:only-of-type {\n",
              "        vertical-align: middle;\n",
              "    }\n",
              "\n",
              "    .dataframe tbody tr th {\n",
              "        vertical-align: top;\n",
              "    }\n",
              "\n",
              "    .dataframe thead th {\n",
              "        text-align: right;\n",
              "    }\n",
              "</style>\n",
              "<table border=\"1\" class=\"dataframe\">\n",
              "  <thead>\n",
              "    <tr style=\"text-align: right;\">\n",
              "      <th></th>\n",
              "      <th>genre</th>\n",
              "      <th>book_id</th>\n",
              "    </tr>\n",
              "  </thead>\n",
              "  <tbody>\n",
              "    <tr>\n",
              "      <th>0</th>\n",
              "      <td>Young Adult</td>\n",
              "      <td>1</td>\n",
              "    </tr>\n",
              "    <tr>\n",
              "      <th>1</th>\n",
              "      <td>Fiction</td>\n",
              "      <td>1</td>\n",
              "    </tr>\n",
              "    <tr>\n",
              "      <th>2</th>\n",
              "      <td>Science Fiction</td>\n",
              "      <td>1</td>\n",
              "    </tr>\n",
              "    <tr>\n",
              "      <th>3</th>\n",
              "      <td>Dystopia</td>\n",
              "      <td>1</td>\n",
              "    </tr>\n",
              "    <tr>\n",
              "      <th>4</th>\n",
              "      <td>Fantasy</td>\n",
              "      <td>1</td>\n",
              "    </tr>\n",
              "    <tr>\n",
              "      <th>...</th>\n",
              "      <td>...</td>\n",
              "      <td>...</td>\n",
              "    </tr>\n",
              "    <tr>\n",
              "      <th>303123</th>\n",
              "      <td>Literature</td>\n",
              "      <td>54301</td>\n",
              "    </tr>\n",
              "    <tr>\n",
              "      <th>303124</th>\n",
              "      <td>American</td>\n",
              "      <td>54301</td>\n",
              "    </tr>\n",
              "    <tr>\n",
              "      <th>303125</th>\n",
              "      <td>Literature</td>\n",
              "      <td>54301</td>\n",
              "    </tr>\n",
              "    <tr>\n",
              "      <th>303126</th>\n",
              "      <td>20th Century</td>\n",
              "      <td>54301</td>\n",
              "    </tr>\n",
              "    <tr>\n",
              "      <th>303127</th>\n",
              "      <td>Literature</td>\n",
              "      <td>54301</td>\n",
              "    </tr>\n",
              "  </tbody>\n",
              "</table>\n",
              "<p>303128 rows × 2 columns</p>\n",
              "</div>"
            ],
            "text/plain": [
              "                  genre  book_id\n",
              "0           Young Adult        1\n",
              "1               Fiction        1\n",
              "2       Science Fiction        1\n",
              "3              Dystopia        1\n",
              "4               Fantasy        1\n",
              "...                 ...      ...\n",
              "303123       Literature    54301\n",
              "303124         American    54301\n",
              "303125       Literature    54301\n",
              "303126     20th Century    54301\n",
              "303127       Literature    54301\n",
              "\n",
              "[303128 rows x 2 columns]"
            ]
          },
          "metadata": {
            "tags": []
          },
          "execution_count": 36
        }
      ]
    },
    {
      "cell_type": "markdown",
      "metadata": {
        "id": "1INYh8zDr88Q"
      },
      "source": [
        "### 2.2\n",
        "assign id to unique genres"
      ]
    },
    {
      "cell_type": "code",
      "metadata": {
        "id": "SRDLJzBirMSZ"
      },
      "source": [
        "# get unique genre names and assign ids to it\n",
        "query = \"\"\"\n",
        "select distinct genre as genre_name\n",
        "from genre_df\n",
        "\"\"\"\n",
        "\n",
        "genre_id_df = ps.sqldf(query)\n",
        "\n",
        "# add index col\n",
        "genre_id_df['genre_id'] = pd.Series(range(1, len(genre_id_df) + 1))"
      ],
      "execution_count": null,
      "outputs": []
    },
    {
      "cell_type": "code",
      "metadata": {
        "colab": {
          "base_uri": "https://localhost:8080/",
          "height": 436
        },
        "id": "PXMuFerBrqL1",
        "outputId": "bd78a769-d02d-4a2f-adfb-f4340f44946e"
      },
      "source": [
        "# print\n",
        "print(len(genre_id_df))\n",
        "genre_id_df"
      ],
      "execution_count": null,
      "outputs": [
        {
          "output_type": "stream",
          "text": [
            "867\n"
          ],
          "name": "stdout"
        },
        {
          "output_type": "execute_result",
          "data": {
            "text/html": [
              "<div>\n",
              "<style scoped>\n",
              "    .dataframe tbody tr th:only-of-type {\n",
              "        vertical-align: middle;\n",
              "    }\n",
              "\n",
              "    .dataframe tbody tr th {\n",
              "        vertical-align: top;\n",
              "    }\n",
              "\n",
              "    .dataframe thead th {\n",
              "        text-align: right;\n",
              "    }\n",
              "</style>\n",
              "<table border=\"1\" class=\"dataframe\">\n",
              "  <thead>\n",
              "    <tr style=\"text-align: right;\">\n",
              "      <th></th>\n",
              "      <th>genre_name</th>\n",
              "      <th>genre_id</th>\n",
              "    </tr>\n",
              "  </thead>\n",
              "  <tbody>\n",
              "    <tr>\n",
              "      <th>0</th>\n",
              "      <td>Young Adult</td>\n",
              "      <td>1</td>\n",
              "    </tr>\n",
              "    <tr>\n",
              "      <th>1</th>\n",
              "      <td>Fiction</td>\n",
              "      <td>2</td>\n",
              "    </tr>\n",
              "    <tr>\n",
              "      <th>2</th>\n",
              "      <td>Science Fiction</td>\n",
              "      <td>3</td>\n",
              "    </tr>\n",
              "    <tr>\n",
              "      <th>3</th>\n",
              "      <td>Dystopia</td>\n",
              "      <td>4</td>\n",
              "    </tr>\n",
              "    <tr>\n",
              "      <th>4</th>\n",
              "      <td>Fantasy</td>\n",
              "      <td>5</td>\n",
              "    </tr>\n",
              "    <tr>\n",
              "      <th>...</th>\n",
              "      <td>...</td>\n",
              "      <td>...</td>\n",
              "    </tr>\n",
              "    <tr>\n",
              "      <th>862</th>\n",
              "      <td>Peak Oil</td>\n",
              "      <td>863</td>\n",
              "    </tr>\n",
              "    <tr>\n",
              "      <th>863</th>\n",
              "      <td>Social Change</td>\n",
              "      <td>864</td>\n",
              "    </tr>\n",
              "    <tr>\n",
              "      <th>864</th>\n",
              "      <td>Health Care</td>\n",
              "      <td>865</td>\n",
              "    </tr>\n",
              "    <tr>\n",
              "      <th>865</th>\n",
              "      <td>Read For College</td>\n",
              "      <td>866</td>\n",
              "    </tr>\n",
              "    <tr>\n",
              "      <th>866</th>\n",
              "      <td>Anthropomorphic</td>\n",
              "      <td>867</td>\n",
              "    </tr>\n",
              "  </tbody>\n",
              "</table>\n",
              "<p>867 rows × 2 columns</p>\n",
              "</div>"
            ],
            "text/plain": [
              "           genre_name  genre_id\n",
              "0         Young Adult         1\n",
              "1             Fiction         2\n",
              "2     Science Fiction         3\n",
              "3            Dystopia         4\n",
              "4             Fantasy         5\n",
              "..                ...       ...\n",
              "862          Peak Oil       863\n",
              "863     Social Change       864\n",
              "864       Health Care       865\n",
              "865  Read For College       866\n",
              "866   Anthropomorphic       867\n",
              "\n",
              "[867 rows x 2 columns]"
            ]
          },
          "metadata": {
            "tags": []
          },
          "execution_count": 38
        }
      ]
    },
    {
      "cell_type": "code",
      "metadata": {
        "id": "hUrQmMjori4Q"
      },
      "source": [
        "# save the genre dataset\n",
        "genre_id_df.to_csv('/content/drive/My Drive/CIS550 Final Project/genres.csv')"
      ],
      "execution_count": null,
      "outputs": []
    },
    {
      "cell_type": "markdown",
      "metadata": {
        "id": "jrpq6VhJs-8E"
      },
      "source": [
        "###2.3\n",
        " replace the genre names in genre_df to genre ids\n",
        "\n",
        " save book_has_genre"
      ]
    },
    {
      "cell_type": "code",
      "metadata": {
        "id": "CMbiGU_8r4Ja"
      },
      "source": [
        "# replace the genre names in genre_df with genre id\n",
        "\n",
        "query = \"\"\"\n",
        "select genre_df.book_id, genre_id_df.genre_id from \n",
        "genre_df left join genre_id_df on genre_df.genre = genre_id_df.genre_name\n",
        "\"\"\"\n",
        "\n",
        "# schema: book_id, genre_id\n",
        "book_has_genre = ps.sqldf(query)"
      ],
      "execution_count": null,
      "outputs": []
    },
    {
      "cell_type": "code",
      "metadata": {
        "colab": {
          "base_uri": "https://localhost:8080/",
          "height": 419
        },
        "id": "cXe1zdjj7QMv",
        "outputId": "98c9e0ff-888d-4f9e-ffde-a85532d0dee6"
      },
      "source": [
        "book_has_genre"
      ],
      "execution_count": null,
      "outputs": [
        {
          "output_type": "execute_result",
          "data": {
            "text/html": [
              "<div>\n",
              "<style scoped>\n",
              "    .dataframe tbody tr th:only-of-type {\n",
              "        vertical-align: middle;\n",
              "    }\n",
              "\n",
              "    .dataframe tbody tr th {\n",
              "        vertical-align: top;\n",
              "    }\n",
              "\n",
              "    .dataframe thead th {\n",
              "        text-align: right;\n",
              "    }\n",
              "</style>\n",
              "<table border=\"1\" class=\"dataframe\">\n",
              "  <thead>\n",
              "    <tr style=\"text-align: right;\">\n",
              "      <th></th>\n",
              "      <th>book_id</th>\n",
              "      <th>genre_id</th>\n",
              "    </tr>\n",
              "  </thead>\n",
              "  <tbody>\n",
              "    <tr>\n",
              "      <th>0</th>\n",
              "      <td>1</td>\n",
              "      <td>1</td>\n",
              "    </tr>\n",
              "    <tr>\n",
              "      <th>1</th>\n",
              "      <td>1</td>\n",
              "      <td>2</td>\n",
              "    </tr>\n",
              "    <tr>\n",
              "      <th>2</th>\n",
              "      <td>1</td>\n",
              "      <td>3</td>\n",
              "    </tr>\n",
              "    <tr>\n",
              "      <th>3</th>\n",
              "      <td>1</td>\n",
              "      <td>4</td>\n",
              "    </tr>\n",
              "    <tr>\n",
              "      <th>4</th>\n",
              "      <td>1</td>\n",
              "      <td>5</td>\n",
              "    </tr>\n",
              "    <tr>\n",
              "      <th>...</th>\n",
              "      <td>...</td>\n",
              "      <td>...</td>\n",
              "    </tr>\n",
              "    <tr>\n",
              "      <th>303123</th>\n",
              "      <td>54301</td>\n",
              "      <td>15</td>\n",
              "    </tr>\n",
              "    <tr>\n",
              "      <th>303124</th>\n",
              "      <td>54301</td>\n",
              "      <td>43</td>\n",
              "    </tr>\n",
              "    <tr>\n",
              "      <th>303125</th>\n",
              "      <td>54301</td>\n",
              "      <td>15</td>\n",
              "    </tr>\n",
              "    <tr>\n",
              "      <th>303126</th>\n",
              "      <td>54301</td>\n",
              "      <td>75</td>\n",
              "    </tr>\n",
              "    <tr>\n",
              "      <th>303127</th>\n",
              "      <td>54301</td>\n",
              "      <td>15</td>\n",
              "    </tr>\n",
              "  </tbody>\n",
              "</table>\n",
              "<p>303128 rows × 2 columns</p>\n",
              "</div>"
            ],
            "text/plain": [
              "        book_id  genre_id\n",
              "0             1         1\n",
              "1             1         2\n",
              "2             1         3\n",
              "3             1         4\n",
              "4             1         5\n",
              "...         ...       ...\n",
              "303123    54301        15\n",
              "303124    54301        43\n",
              "303125    54301        15\n",
              "303126    54301        75\n",
              "303127    54301        15\n",
              "\n",
              "[303128 rows x 2 columns]"
            ]
          },
          "metadata": {
            "tags": []
          },
          "execution_count": 41
        }
      ]
    },
    {
      "cell_type": "code",
      "metadata": {
        "id": "1OLyb1lFvWNX"
      },
      "source": [
        "# save the bookHasGenre dataset\n",
        "book_has_genre.to_csv('/content/drive/My Drive/CIS550 Final Project/book_has_genre.csv')"
      ],
      "execution_count": null,
      "outputs": []
    },
    {
      "cell_type": "markdown",
      "metadata": {
        "id": "hMr84lr3mlX9"
      },
      "source": [
        "## Part 3: Author data cleaning\n",
        "\n"
      ]
    },
    {
      "cell_type": "markdown",
      "metadata": {
        "id": "7-kxBm4HwaZG"
      },
      "source": [
        "### 3.1\n",
        "split the authors in grdf.book_authors (similar to genre-splitting)"
      ]
    },
    {
      "cell_type": "code",
      "metadata": {
        "id": "LGouYzrtxAxb"
      },
      "source": [
        "\n",
        "query = \"\"\"\n",
        "select id, authors\n",
        "from grdf_cleaned\n",
        "\"\"\"\n",
        "\n",
        "authors_original_df = ps.sqldf(query)"
      ],
      "execution_count": null,
      "outputs": []
    },
    {
      "cell_type": "markdown",
      "metadata": {
        "id": "bTpg33Q0whr_"
      },
      "source": [
        "### 3.2\n",
        "\n",
        "construct an authors df from the authors from 3.1, add an index column, and then replace the author_name in book_author with author_id.\n",
        "\n",
        "save book_author and authors"
      ]
    },
    {
      "cell_type": "code",
      "metadata": {
        "id": "Bg0GshkIxAxc"
      },
      "source": [
        "# split genres into multiple rows\n",
        "\n",
        "authors_book_df = pd.DataFrame(columns=['book_id', 'author_name'])\n"
      ],
      "execution_count": null,
      "outputs": []
    },
    {
      "cell_type": "code",
      "metadata": {
        "id": "8X1K0XiRxAxc"
      },
      "source": [
        "\n",
        "# for _, row in authors_original_df.iterrows():\n",
        "#   if pd.isnull(row['authors']):\n",
        "#     authors_book_df = genre_df.append([row['id'], \"\"])\n",
        "#     continue\n",
        "#   else:\n",
        "#     for string in row['authors'].split('|'):\n",
        "#       authors_book_df = genre_df.append([row['id'], string])\n",
        "    \n",
        "authors_book_df = pd.concat([pd.Series(row['id'], row['authors'].split('|'))              \n",
        "                    for _, row in authors_original_df.iterrows()]).reset_index()"
      ],
      "execution_count": null,
      "outputs": []
    },
    {
      "cell_type": "code",
      "metadata": {
        "colab": {
          "base_uri": "https://localhost:8080/",
          "height": 419
        },
        "id": "w05eAPj_xAxc",
        "outputId": "ab716b46-2d43-4dce-ea7d-2ff102ef9630"
      },
      "source": [
        "# print\n",
        "authors_book_df.columns = ['author_name', 'book_id']\n",
        "authors_book_df"
      ],
      "execution_count": null,
      "outputs": [
        {
          "output_type": "execute_result",
          "data": {
            "text/html": [
              "<div>\n",
              "<style scoped>\n",
              "    .dataframe tbody tr th:only-of-type {\n",
              "        vertical-align: middle;\n",
              "    }\n",
              "\n",
              "    .dataframe tbody tr th {\n",
              "        vertical-align: top;\n",
              "    }\n",
              "\n",
              "    .dataframe thead th {\n",
              "        text-align: right;\n",
              "    }\n",
              "</style>\n",
              "<table border=\"1\" class=\"dataframe\">\n",
              "  <thead>\n",
              "    <tr style=\"text-align: right;\">\n",
              "      <th></th>\n",
              "      <th>author_name</th>\n",
              "      <th>book_id</th>\n",
              "    </tr>\n",
              "  </thead>\n",
              "  <tbody>\n",
              "    <tr>\n",
              "      <th>0</th>\n",
              "      <td>Suzanne Collins</td>\n",
              "      <td>1</td>\n",
              "    </tr>\n",
              "    <tr>\n",
              "      <th>1</th>\n",
              "      <td>J.K. Rowling</td>\n",
              "      <td>2</td>\n",
              "    </tr>\n",
              "    <tr>\n",
              "      <th>2</th>\n",
              "      <td>Mary GrandPré</td>\n",
              "      <td>2</td>\n",
              "    </tr>\n",
              "    <tr>\n",
              "      <th>3</th>\n",
              "      <td>Harper Lee</td>\n",
              "      <td>3</td>\n",
              "    </tr>\n",
              "    <tr>\n",
              "      <th>4</th>\n",
              "      <td>Jane Austen</td>\n",
              "      <td>4</td>\n",
              "    </tr>\n",
              "    <tr>\n",
              "      <th>...</th>\n",
              "      <td>...</td>\n",
              "      <td>...</td>\n",
              "    </tr>\n",
              "    <tr>\n",
              "      <th>73174</th>\n",
              "      <td>Howard Megdal</td>\n",
              "      <td>54298</td>\n",
              "    </tr>\n",
              "    <tr>\n",
              "      <th>73175</th>\n",
              "      <td>Howard Megdal</td>\n",
              "      <td>54299</td>\n",
              "    </tr>\n",
              "    <tr>\n",
              "      <th>73176</th>\n",
              "      <td>Mimi Baird</td>\n",
              "      <td>54300</td>\n",
              "    </tr>\n",
              "    <tr>\n",
              "      <th>73177</th>\n",
              "      <td>Eve Claxton</td>\n",
              "      <td>54300</td>\n",
              "    </tr>\n",
              "    <tr>\n",
              "      <th>73178</th>\n",
              "      <td>Leah Price</td>\n",
              "      <td>54301</td>\n",
              "    </tr>\n",
              "  </tbody>\n",
              "</table>\n",
              "<p>73179 rows × 2 columns</p>\n",
              "</div>"
            ],
            "text/plain": [
              "           author_name  book_id\n",
              "0      Suzanne Collins        1\n",
              "1         J.K. Rowling        2\n",
              "2        Mary GrandPré        2\n",
              "3           Harper Lee        3\n",
              "4          Jane Austen        4\n",
              "...                ...      ...\n",
              "73174    Howard Megdal    54298\n",
              "73175    Howard Megdal    54299\n",
              "73176       Mimi Baird    54300\n",
              "73177      Eve Claxton    54300\n",
              "73178       Leah Price    54301\n",
              "\n",
              "[73179 rows x 2 columns]"
            ]
          },
          "metadata": {
            "tags": []
          },
          "execution_count": 46
        }
      ]
    },
    {
      "cell_type": "code",
      "metadata": {
        "id": "Mrb2CIsSxAxd"
      },
      "source": [
        "# get unique author names and assign ids to it\n",
        "query = \"\"\"\n",
        "select distinct author_name\n",
        "from authors_book_df\n",
        "\"\"\"\n",
        "\n",
        "authors = ps.sqldf(query)\n",
        "\n",
        "# add index col\n",
        "authors['author_id'] = pd.Series(range(1, len(authors) + 1))"
      ],
      "execution_count": null,
      "outputs": []
    },
    {
      "cell_type": "code",
      "metadata": {
        "colab": {
          "base_uri": "https://localhost:8080/",
          "height": 436
        },
        "id": "ygJtpZ4xxAxe",
        "outputId": "14868847-1f06-4e3f-c079-0cd10db0b27c"
      },
      "source": [
        "# print\n",
        "print(len(authors))\n",
        "authors"
      ],
      "execution_count": null,
      "outputs": [
        {
          "output_type": "stream",
          "text": [
            "32041\n"
          ],
          "name": "stdout"
        },
        {
          "output_type": "execute_result",
          "data": {
            "text/html": [
              "<div>\n",
              "<style scoped>\n",
              "    .dataframe tbody tr th:only-of-type {\n",
              "        vertical-align: middle;\n",
              "    }\n",
              "\n",
              "    .dataframe tbody tr th {\n",
              "        vertical-align: top;\n",
              "    }\n",
              "\n",
              "    .dataframe thead th {\n",
              "        text-align: right;\n",
              "    }\n",
              "</style>\n",
              "<table border=\"1\" class=\"dataframe\">\n",
              "  <thead>\n",
              "    <tr style=\"text-align: right;\">\n",
              "      <th></th>\n",
              "      <th>author_name</th>\n",
              "      <th>author_id</th>\n",
              "    </tr>\n",
              "  </thead>\n",
              "  <tbody>\n",
              "    <tr>\n",
              "      <th>0</th>\n",
              "      <td>Suzanne Collins</td>\n",
              "      <td>1</td>\n",
              "    </tr>\n",
              "    <tr>\n",
              "      <th>1</th>\n",
              "      <td>J.K. Rowling</td>\n",
              "      <td>2</td>\n",
              "    </tr>\n",
              "    <tr>\n",
              "      <th>2</th>\n",
              "      <td>Mary GrandPré</td>\n",
              "      <td>3</td>\n",
              "    </tr>\n",
              "    <tr>\n",
              "      <th>3</th>\n",
              "      <td>Harper Lee</td>\n",
              "      <td>4</td>\n",
              "    </tr>\n",
              "    <tr>\n",
              "      <th>4</th>\n",
              "      <td>Jane Austen</td>\n",
              "      <td>5</td>\n",
              "    </tr>\n",
              "    <tr>\n",
              "      <th>...</th>\n",
              "      <td>...</td>\n",
              "      <td>...</td>\n",
              "    </tr>\n",
              "    <tr>\n",
              "      <th>32036</th>\n",
              "      <td>Avi Steinberg</td>\n",
              "      <td>32037</td>\n",
              "    </tr>\n",
              "    <tr>\n",
              "      <th>32037</th>\n",
              "      <td>Howard Megdal</td>\n",
              "      <td>32038</td>\n",
              "    </tr>\n",
              "    <tr>\n",
              "      <th>32038</th>\n",
              "      <td>Mimi Baird</td>\n",
              "      <td>32039</td>\n",
              "    </tr>\n",
              "    <tr>\n",
              "      <th>32039</th>\n",
              "      <td>Eve Claxton</td>\n",
              "      <td>32040</td>\n",
              "    </tr>\n",
              "    <tr>\n",
              "      <th>32040</th>\n",
              "      <td>Leah Price</td>\n",
              "      <td>32041</td>\n",
              "    </tr>\n",
              "  </tbody>\n",
              "</table>\n",
              "<p>32041 rows × 2 columns</p>\n",
              "</div>"
            ],
            "text/plain": [
              "           author_name  author_id\n",
              "0      Suzanne Collins          1\n",
              "1         J.K. Rowling          2\n",
              "2        Mary GrandPré          3\n",
              "3           Harper Lee          4\n",
              "4          Jane Austen          5\n",
              "...                ...        ...\n",
              "32036    Avi Steinberg      32037\n",
              "32037    Howard Megdal      32038\n",
              "32038       Mimi Baird      32039\n",
              "32039      Eve Claxton      32040\n",
              "32040       Leah Price      32041\n",
              "\n",
              "[32041 rows x 2 columns]"
            ]
          },
          "metadata": {
            "tags": []
          },
          "execution_count": 48
        }
      ]
    },
    {
      "cell_type": "code",
      "metadata": {
        "id": "JQVT9x1vxAxe"
      },
      "source": [
        "# save the authors dataset\n",
        "authors.to_csv('/content/drive/My Drive/CIS550 Final Project/authors_no_info_processed.csv')"
      ],
      "execution_count": null,
      "outputs": []
    },
    {
      "cell_type": "code",
      "metadata": {
        "id": "JhC_A7zmxAxe"
      },
      "source": [
        "# replace the authors names in author_book_df with author id\n",
        "\n",
        "query = \"\"\"\n",
        "select authors_book_df.book_id, authors.author_id from \n",
        "authors_book_df left join authors on authors_book_df.author_name = authors.author_name\n",
        "\"\"\"\n",
        "\n",
        "# schema: book_id, author_id\n",
        "book_author = ps.sqldf(query)"
      ],
      "execution_count": null,
      "outputs": []
    },
    {
      "cell_type": "code",
      "metadata": {
        "colab": {
          "base_uri": "https://localhost:8080/",
          "height": 419
        },
        "id": "obdKv0Wc8EFc",
        "outputId": "668df8cd-2b0a-47c9-da29-4059f4c60021"
      },
      "source": [
        "book_author"
      ],
      "execution_count": null,
      "outputs": [
        {
          "output_type": "execute_result",
          "data": {
            "text/html": [
              "<div>\n",
              "<style scoped>\n",
              "    .dataframe tbody tr th:only-of-type {\n",
              "        vertical-align: middle;\n",
              "    }\n",
              "\n",
              "    .dataframe tbody tr th {\n",
              "        vertical-align: top;\n",
              "    }\n",
              "\n",
              "    .dataframe thead th {\n",
              "        text-align: right;\n",
              "    }\n",
              "</style>\n",
              "<table border=\"1\" class=\"dataframe\">\n",
              "  <thead>\n",
              "    <tr style=\"text-align: right;\">\n",
              "      <th></th>\n",
              "      <th>book_id</th>\n",
              "      <th>author_id</th>\n",
              "    </tr>\n",
              "  </thead>\n",
              "  <tbody>\n",
              "    <tr>\n",
              "      <th>0</th>\n",
              "      <td>1</td>\n",
              "      <td>1</td>\n",
              "    </tr>\n",
              "    <tr>\n",
              "      <th>1</th>\n",
              "      <td>2</td>\n",
              "      <td>2</td>\n",
              "    </tr>\n",
              "    <tr>\n",
              "      <th>2</th>\n",
              "      <td>2</td>\n",
              "      <td>3</td>\n",
              "    </tr>\n",
              "    <tr>\n",
              "      <th>3</th>\n",
              "      <td>3</td>\n",
              "      <td>4</td>\n",
              "    </tr>\n",
              "    <tr>\n",
              "      <th>4</th>\n",
              "      <td>4</td>\n",
              "      <td>5</td>\n",
              "    </tr>\n",
              "    <tr>\n",
              "      <th>...</th>\n",
              "      <td>...</td>\n",
              "      <td>...</td>\n",
              "    </tr>\n",
              "    <tr>\n",
              "      <th>73174</th>\n",
              "      <td>54298</td>\n",
              "      <td>32038</td>\n",
              "    </tr>\n",
              "    <tr>\n",
              "      <th>73175</th>\n",
              "      <td>54299</td>\n",
              "      <td>32038</td>\n",
              "    </tr>\n",
              "    <tr>\n",
              "      <th>73176</th>\n",
              "      <td>54300</td>\n",
              "      <td>32039</td>\n",
              "    </tr>\n",
              "    <tr>\n",
              "      <th>73177</th>\n",
              "      <td>54300</td>\n",
              "      <td>32040</td>\n",
              "    </tr>\n",
              "    <tr>\n",
              "      <th>73178</th>\n",
              "      <td>54301</td>\n",
              "      <td>32041</td>\n",
              "    </tr>\n",
              "  </tbody>\n",
              "</table>\n",
              "<p>73179 rows × 2 columns</p>\n",
              "</div>"
            ],
            "text/plain": [
              "       book_id  author_id\n",
              "0            1          1\n",
              "1            2          2\n",
              "2            2          3\n",
              "3            3          4\n",
              "4            4          5\n",
              "...        ...        ...\n",
              "73174    54298      32038\n",
              "73175    54299      32038\n",
              "73176    54300      32039\n",
              "73177    54300      32040\n",
              "73178    54301      32041\n",
              "\n",
              "[73179 rows x 2 columns]"
            ]
          },
          "metadata": {
            "tags": []
          },
          "execution_count": 51
        }
      ]
    },
    {
      "cell_type": "code",
      "metadata": {
        "id": "JjUDxP3wxAxe"
      },
      "source": [
        "# save the bookHasGenre dataset\n",
        "book_author.to_csv('/content/drive/My Drive/CIS550 Final Project/book_author.csv')"
      ],
      "execution_count": null,
      "outputs": []
    },
    {
      "cell_type": "markdown",
      "metadata": {
        "id": "K8wP1Uyrwshf"
      },
      "source": [
        "### 3.3 \n",
        "\n",
        "additional author data from another dataset"
      ]
    },
    {
      "cell_type": "code",
      "metadata": {
        "colab": {
          "base_uri": "https://localhost:8080/"
        },
        "id": "yWO210t9mn-k",
        "outputId": "5e9416b8-2ef1-4619-8ef7-ddf8c2757fe1"
      },
      "source": [
        "authors_raw_df = pd.read_csv('/content/drive/My Drive/CIS550 Final Project/authors_raw_data.csv', header=0)\n",
        "authors_no_info = pd.read_csv('/content/drive/My Drive/CIS550 Final Project/authors_no_info_processed.csv', header=0)\n",
        "print(len(authors_raw_df))"
      ],
      "execution_count": null,
      "outputs": [
        {
          "output_type": "stream",
          "text": [
            "22891\n"
          ],
          "name": "stdout"
        }
      ]
    },
    {
      "cell_type": "code",
      "metadata": {
        "colab": {
          "base_uri": "https://localhost:8080/"
        },
        "id": "A_waJcr20CCM",
        "outputId": "7e50e20a-be86-4de1-8036-856ee7960f37"
      },
      "source": [
        "# check how many distinct authors\n",
        "len(pd.unique(authors_raw_df['author_name']))\n",
        "authors_raw_df.columns"
      ],
      "execution_count": null,
      "outputs": [
        {
          "output_type": "execute_result",
          "data": {
            "text/plain": [
              "Index(['author_average_rating', 'author_gender', 'author_genres', 'author_id',\n",
              "       'author_name', 'author_page_url', 'author_rating_count',\n",
              "       'author_review_count', 'birthplace', 'book_average_rating',\n",
              "       'book_fullurl', 'book_id', 'book_title', 'genre_1', 'genre_2',\n",
              "       'num_ratings', 'num_reviews', 'pages', 'publish_date', 'score'],\n",
              "      dtype='object')"
            ]
          },
          "metadata": {
            "tags": []
          },
          "execution_count": 54
        }
      ]
    },
    {
      "cell_type": "markdown",
      "metadata": {
        "id": "0m-Og9uTnUqM"
      },
      "source": [
        "drop some columns"
      ]
    },
    {
      "cell_type": "code",
      "metadata": {
        "id": "qF0mo8Vvn0KA",
        "colab": {
          "base_uri": "https://localhost:8080/"
        },
        "outputId": "979a18bb-94d5-4844-ad9f-5dc8211a46d0"
      },
      "source": [
        "\n",
        "authors_raw_df = authors_raw_df.drop(['author_rating_count','author_review_count','book_fullurl', 'book_id', 'book_title','num_ratings', 'num_reviews', 'pages', 'publish_date', 'score'], axis=1)\n",
        "print(authors_raw_df.columns)\n"
      ],
      "execution_count": null,
      "outputs": [
        {
          "output_type": "stream",
          "text": [
            "Index(['author_average_rating', 'author_gender', 'author_genres', 'author_id',\n",
            "       'author_name', 'author_page_url', 'birthplace', 'book_average_rating',\n",
            "       'genre_1', 'genre_2'],\n",
            "      dtype='object')\n"
          ],
          "name": "stdout"
        }
      ]
    },
    {
      "cell_type": "code",
      "metadata": {
        "id": "FiNZV66GzcMC"
      },
      "source": [
        "authors_raw_df['author_name'] = authors_raw_df['author_name'].apply(lambda x:  x.split('\\n')[0])"
      ],
      "execution_count": null,
      "outputs": []
    },
    {
      "cell_type": "code",
      "metadata": {
        "id": "6MsYDcB20ilt"
      },
      "source": [
        "authors_raw_df['birthplace'] = authors_raw_df['birthplace'].apply(lambda x:  x.split('\\n')[0])"
      ],
      "execution_count": null,
      "outputs": []
    },
    {
      "cell_type": "code",
      "metadata": {
        "id": "AyI2LBI80n3j"
      },
      "source": [
        "authors_raw_df = authors_raw_df.drop(['genre_1', 'genre_2', 'book_average_rating', 'author_id'], axis=1)"
      ],
      "execution_count": null,
      "outputs": []
    },
    {
      "cell_type": "code",
      "metadata": {
        "id": "tO-hYmKKoLZZ"
      },
      "source": [
        "# merge with authors as much as possible\n",
        "query = \"\"\"select distinct *\n",
        "from authors_no_info a1 left join authors_raw_df a2 on a1.author_name = a2.author_name\n",
        "\"\"\"\n",
        "\n",
        "authors_with_info = ps.sqldf(query)\n"
      ],
      "execution_count": null,
      "outputs": []
    },
    {
      "cell_type": "code",
      "metadata": {
        "id": "O83SO5ef9UPz"
      },
      "source": [
        "authors_with_info = authors_with_info.drop(['Unnamed: 0'], axis=1)\n",
        "authors_with_info.columns = ['author_name', 'author_id', 'ave_rating',\n",
        "       'gender', 'author_genres', 'author_name2', 'page_url',\n",
        "       'birthplace']\n",
        "authors_with_info = authors_with_info.drop(['author_name2'], axis=1)"
      ],
      "execution_count": null,
      "outputs": []
    },
    {
      "cell_type": "code",
      "metadata": {
        "colab": {
          "base_uri": "https://localhost:8080/"
        },
        "id": "QRU07uVv1-eB",
        "outputId": "5ef0e8ac-60d4-4613-b84e-b325b4d28aae"
      },
      "source": [
        "# swap columns\n",
        "columns_titles = ['author_id', 'author_name', 'ave_rating', 'gender', 'author_genres', 'page_url','birthplace']\n",
        "authors_with_info = authors_with_info.reindex(columns=columns_titles)\n",
        "authors_with_info.columns"
      ],
      "execution_count": null,
      "outputs": [
        {
          "output_type": "execute_result",
          "data": {
            "text/plain": [
              "Index(['author_id', 'author_name', 'ave_rating', 'gender', 'author_genres',\n",
              "       'page_url', 'birthplace'],\n",
              "      dtype='object')"
            ]
          },
          "metadata": {
            "tags": []
          },
          "execution_count": 61
        }
      ]
    },
    {
      "cell_type": "code",
      "metadata": {
        "id": "tcbwTbmb2Y6r"
      },
      "source": [
        "# save the final data\n",
        "authors_with_info.to_csv('/content/drive/My Drive/CIS550 Final Project/authors.csv')"
      ],
      "execution_count": null,
      "outputs": []
    },
    {
      "cell_type": "markdown",
      "metadata": {
        "id": "bQ6rdv8cEbES"
      },
      "source": [
        "### 3.4* author genres\n",
        "\n",
        "dealing with author genres, adding some other unique genres to \"genres\"\n"
      ]
    },
    {
      "cell_type": "code",
      "metadata": {
        "id": "ym7h9z5QEaeb",
        "colab": {
          "base_uri": "https://localhost:8080/",
          "height": 419
        },
        "outputId": "549f1890-5d95-4a1b-e440-b2c5c9757b30"
      },
      "source": [
        "# a sepaate df for author and genre\n",
        "query = \"\"\"\n",
        "select author_id, author_genres\n",
        "from authors_with_info\"\"\"\n",
        "\n",
        "author_genres_df = ps.sqldf(query)\n",
        "author_genres_df"
      ],
      "execution_count": null,
      "outputs": [
        {
          "output_type": "execute_result",
          "data": {
            "text/html": [
              "<div>\n",
              "<style scoped>\n",
              "    .dataframe tbody tr th:only-of-type {\n",
              "        vertical-align: middle;\n",
              "    }\n",
              "\n",
              "    .dataframe tbody tr th {\n",
              "        vertical-align: top;\n",
              "    }\n",
              "\n",
              "    .dataframe thead th {\n",
              "        text-align: right;\n",
              "    }\n",
              "</style>\n",
              "<table border=\"1\" class=\"dataframe\">\n",
              "  <thead>\n",
              "    <tr style=\"text-align: right;\">\n",
              "      <th></th>\n",
              "      <th>author_id</th>\n",
              "      <th>author_genres</th>\n",
              "    </tr>\n",
              "  </thead>\n",
              "  <tbody>\n",
              "    <tr>\n",
              "      <th>0</th>\n",
              "      <td>1</td>\n",
              "      <td>fiction,science-fiction-fantasy,</td>\n",
              "    </tr>\n",
              "    <tr>\n",
              "      <th>1</th>\n",
              "      <td>2</td>\n",
              "      <td>fiction,</td>\n",
              "    </tr>\n",
              "    <tr>\n",
              "      <th>2</th>\n",
              "      <td>3</td>\n",
              "      <td>None</td>\n",
              "    </tr>\n",
              "    <tr>\n",
              "      <th>3</th>\n",
              "      <td>4</td>\n",
              "      <td>literature-fiction,</td>\n",
              "    </tr>\n",
              "    <tr>\n",
              "      <th>4</th>\n",
              "      <td>5</td>\n",
              "      <td>fiction,romance,</td>\n",
              "    </tr>\n",
              "    <tr>\n",
              "      <th>...</th>\n",
              "      <td>...</td>\n",
              "      <td>...</td>\n",
              "    </tr>\n",
              "    <tr>\n",
              "      <th>32090</th>\n",
              "      <td>32037</td>\n",
              "      <td>None</td>\n",
              "    </tr>\n",
              "    <tr>\n",
              "      <th>32091</th>\n",
              "      <td>32038</td>\n",
              "      <td>None</td>\n",
              "    </tr>\n",
              "    <tr>\n",
              "      <th>32092</th>\n",
              "      <td>32039</td>\n",
              "      <td>None</td>\n",
              "    </tr>\n",
              "    <tr>\n",
              "      <th>32093</th>\n",
              "      <td>32040</td>\n",
              "      <td>None</td>\n",
              "    </tr>\n",
              "    <tr>\n",
              "      <th>32094</th>\n",
              "      <td>32041</td>\n",
              "      <td>None</td>\n",
              "    </tr>\n",
              "  </tbody>\n",
              "</table>\n",
              "<p>32095 rows × 2 columns</p>\n",
              "</div>"
            ],
            "text/plain": [
              "       author_id                     author_genres\n",
              "0              1  fiction,science-fiction-fantasy,\n",
              "1              2                          fiction,\n",
              "2              3                              None\n",
              "3              4               literature-fiction,\n",
              "4              5                  fiction,romance,\n",
              "...          ...                               ...\n",
              "32090      32037                              None\n",
              "32091      32038                              None\n",
              "32092      32039                              None\n",
              "32093      32040                              None\n",
              "32094      32041                              None\n",
              "\n",
              "[32095 rows x 2 columns]"
            ]
          },
          "metadata": {
            "tags": []
          },
          "execution_count": 63
        }
      ]
    },
    {
      "cell_type": "code",
      "metadata": {
        "id": "gv4Ch3y5Gyc0"
      },
      "source": [
        "# separate genres into individual lines\n",
        "author_genres_df['author_genres']  = author_genres_df['author_genres'].fillna(\"\")\n",
        "author_genre_signle =  pd.concat([pd.Series(row['author_id'], row['author_genres'].split(','))        \n",
        "                    for _, row in author_genres_df.iterrows()]).reset_index()\n",
        "\n",
        "author_genre_signle.columns=['author_genre', 'author_id']\n"
      ],
      "execution_count": null,
      "outputs": []
    },
    {
      "cell_type": "code",
      "metadata": {
        "id": "7-bm8uiwJDux",
        "colab": {
          "base_uri": "https://localhost:8080/",
          "height": 419
        },
        "outputId": "c77e55e7-95d2-4520-e85f-bf72244a0e44"
      },
      "source": [
        "author_genre_signle"
      ],
      "execution_count": null,
      "outputs": [
        {
          "output_type": "execute_result",
          "data": {
            "text/html": [
              "<div>\n",
              "<style scoped>\n",
              "    .dataframe tbody tr th:only-of-type {\n",
              "        vertical-align: middle;\n",
              "    }\n",
              "\n",
              "    .dataframe tbody tr th {\n",
              "        vertical-align: top;\n",
              "    }\n",
              "\n",
              "    .dataframe thead th {\n",
              "        text-align: right;\n",
              "    }\n",
              "</style>\n",
              "<table border=\"1\" class=\"dataframe\">\n",
              "  <thead>\n",
              "    <tr style=\"text-align: right;\">\n",
              "      <th></th>\n",
              "      <th>author_genre</th>\n",
              "      <th>author_id</th>\n",
              "    </tr>\n",
              "  </thead>\n",
              "  <tbody>\n",
              "    <tr>\n",
              "      <th>0</th>\n",
              "      <td>fiction</td>\n",
              "      <td>1</td>\n",
              "    </tr>\n",
              "    <tr>\n",
              "      <th>1</th>\n",
              "      <td>science-fiction-fantasy</td>\n",
              "      <td>1</td>\n",
              "    </tr>\n",
              "    <tr>\n",
              "      <th>2</th>\n",
              "      <td></td>\n",
              "      <td>1</td>\n",
              "    </tr>\n",
              "    <tr>\n",
              "      <th>3</th>\n",
              "      <td>fiction</td>\n",
              "      <td>2</td>\n",
              "    </tr>\n",
              "    <tr>\n",
              "      <th>4</th>\n",
              "      <td></td>\n",
              "      <td>2</td>\n",
              "    </tr>\n",
              "    <tr>\n",
              "      <th>...</th>\n",
              "      <td>...</td>\n",
              "      <td>...</td>\n",
              "    </tr>\n",
              "    <tr>\n",
              "      <th>41749</th>\n",
              "      <td></td>\n",
              "      <td>32037</td>\n",
              "    </tr>\n",
              "    <tr>\n",
              "      <th>41750</th>\n",
              "      <td></td>\n",
              "      <td>32038</td>\n",
              "    </tr>\n",
              "    <tr>\n",
              "      <th>41751</th>\n",
              "      <td></td>\n",
              "      <td>32039</td>\n",
              "    </tr>\n",
              "    <tr>\n",
              "      <th>41752</th>\n",
              "      <td></td>\n",
              "      <td>32040</td>\n",
              "    </tr>\n",
              "    <tr>\n",
              "      <th>41753</th>\n",
              "      <td></td>\n",
              "      <td>32041</td>\n",
              "    </tr>\n",
              "  </tbody>\n",
              "</table>\n",
              "<p>41754 rows × 2 columns</p>\n",
              "</div>"
            ],
            "text/plain": [
              "                  author_genre  author_id\n",
              "0                      fiction          1\n",
              "1      science-fiction-fantasy          1\n",
              "2                                       1\n",
              "3                      fiction          2\n",
              "4                                       2\n",
              "...                        ...        ...\n",
              "41749                               32037\n",
              "41750                               32038\n",
              "41751                               32039\n",
              "41752                               32040\n",
              "41753                               32041\n",
              "\n",
              "[41754 rows x 2 columns]"
            ]
          },
          "metadata": {
            "tags": []
          },
          "execution_count": 65
        }
      ]
    },
    {
      "cell_type": "code",
      "metadata": {
        "id": "X0-PaVb_Gm_T"
      },
      "source": [
        "genres_cleaned = pd.read_csv('/content/drive/My Drive/CIS550 Final Project/genres.csv', header=0)"
      ],
      "execution_count": null,
      "outputs": []
    },
    {
      "cell_type": "code",
      "metadata": {
        "id": "TzangaKVJncZ"
      },
      "source": [
        "# cleaning genres again\n",
        "genres_cleaned = genres_cleaned.drop(['Unnamed: 0'], axis=1)\n",
        "columns_titles = ['genre_id', 'genre_name']\n",
        "genres_cleaned = genres_cleaned.reindex(columns=columns_titles)"
      ],
      "execution_count": null,
      "outputs": []
    },
    {
      "cell_type": "code",
      "metadata": {
        "colab": {
          "base_uri": "https://localhost:8080/",
          "height": 419
        },
        "id": "jjUcYVU3KkAy",
        "outputId": "a6514d11-bd18-4cde-cf99-76b853d746da"
      },
      "source": [
        "# convert all id to lower case\n",
        "genres_cleaned['genre_name'] = genres_cleaned['genre_name'].apply(lambda x: str(x).lower())\n",
        "genres_cleaned"
      ],
      "execution_count": null,
      "outputs": [
        {
          "output_type": "execute_result",
          "data": {
            "text/html": [
              "<div>\n",
              "<style scoped>\n",
              "    .dataframe tbody tr th:only-of-type {\n",
              "        vertical-align: middle;\n",
              "    }\n",
              "\n",
              "    .dataframe tbody tr th {\n",
              "        vertical-align: top;\n",
              "    }\n",
              "\n",
              "    .dataframe thead th {\n",
              "        text-align: right;\n",
              "    }\n",
              "</style>\n",
              "<table border=\"1\" class=\"dataframe\">\n",
              "  <thead>\n",
              "    <tr style=\"text-align: right;\">\n",
              "      <th></th>\n",
              "      <th>genre_id</th>\n",
              "      <th>genre_name</th>\n",
              "    </tr>\n",
              "  </thead>\n",
              "  <tbody>\n",
              "    <tr>\n",
              "      <th>0</th>\n",
              "      <td>1</td>\n",
              "      <td>young adult</td>\n",
              "    </tr>\n",
              "    <tr>\n",
              "      <th>1</th>\n",
              "      <td>2</td>\n",
              "      <td>fiction</td>\n",
              "    </tr>\n",
              "    <tr>\n",
              "      <th>2</th>\n",
              "      <td>3</td>\n",
              "      <td>science fiction</td>\n",
              "    </tr>\n",
              "    <tr>\n",
              "      <th>3</th>\n",
              "      <td>4</td>\n",
              "      <td>dystopia</td>\n",
              "    </tr>\n",
              "    <tr>\n",
              "      <th>4</th>\n",
              "      <td>5</td>\n",
              "      <td>fantasy</td>\n",
              "    </tr>\n",
              "    <tr>\n",
              "      <th>...</th>\n",
              "      <td>...</td>\n",
              "      <td>...</td>\n",
              "    </tr>\n",
              "    <tr>\n",
              "      <th>862</th>\n",
              "      <td>863</td>\n",
              "      <td>peak oil</td>\n",
              "    </tr>\n",
              "    <tr>\n",
              "      <th>863</th>\n",
              "      <td>864</td>\n",
              "      <td>social change</td>\n",
              "    </tr>\n",
              "    <tr>\n",
              "      <th>864</th>\n",
              "      <td>865</td>\n",
              "      <td>health care</td>\n",
              "    </tr>\n",
              "    <tr>\n",
              "      <th>865</th>\n",
              "      <td>866</td>\n",
              "      <td>read for college</td>\n",
              "    </tr>\n",
              "    <tr>\n",
              "      <th>866</th>\n",
              "      <td>867</td>\n",
              "      <td>anthropomorphic</td>\n",
              "    </tr>\n",
              "  </tbody>\n",
              "</table>\n",
              "<p>867 rows × 2 columns</p>\n",
              "</div>"
            ],
            "text/plain": [
              "     genre_id        genre_name\n",
              "0           1       young adult\n",
              "1           2           fiction\n",
              "2           3   science fiction\n",
              "3           4          dystopia\n",
              "4           5           fantasy\n",
              "..        ...               ...\n",
              "862       863          peak oil\n",
              "863       864     social change\n",
              "864       865       health care\n",
              "865       866  read for college\n",
              "866       867   anthropomorphic\n",
              "\n",
              "[867 rows x 2 columns]"
            ]
          },
          "metadata": {
            "tags": []
          },
          "execution_count": 68
        }
      ]
    },
    {
      "cell_type": "code",
      "metadata": {
        "colab": {
          "base_uri": "https://localhost:8080/",
          "height": 419
        },
        "id": "4QVLdlEkHY7t",
        "outputId": "a528b974-1dd0-415c-ca62-fe038f2021c1"
      },
      "source": [
        "# find the genres not in genres_cleaned and add to it\n",
        "query = \"\"\"\n",
        "select distinct author_genre from\n",
        "author_genre_signle\n",
        "where author_genre not in (select genre_name from genres_cleaned) and author_genre <> \"\"\n",
        "\"\"\"\n",
        "\n",
        "temp = ps.sqldf(query)\n",
        "\n",
        "id_from_868 = pd.Series(range(868, 868+len(temp)-1 + 1))\n",
        "df = pd.concat([id_from_868, temp['author_genre']], axis=1)\n",
        "df.columns = ['genre_id', 'genre_name']\n",
        "\n",
        "query2 = \"\"\"\n",
        "select * from\n",
        "(select * from genres_cleaned \n",
        " union \n",
        " select * from df)\n",
        "  c\n",
        "\"\"\"\n",
        "\n",
        "added_genres = ps.sqldf(query2)\n",
        "added_genres"
      ],
      "execution_count": null,
      "outputs": [
        {
          "output_type": "execute_result",
          "data": {
            "text/html": [
              "<div>\n",
              "<style scoped>\n",
              "    .dataframe tbody tr th:only-of-type {\n",
              "        vertical-align: middle;\n",
              "    }\n",
              "\n",
              "    .dataframe tbody tr th {\n",
              "        vertical-align: top;\n",
              "    }\n",
              "\n",
              "    .dataframe thead th {\n",
              "        text-align: right;\n",
              "    }\n",
              "</style>\n",
              "<table border=\"1\" class=\"dataframe\">\n",
              "  <thead>\n",
              "    <tr style=\"text-align: right;\">\n",
              "      <th></th>\n",
              "      <th>genre_id</th>\n",
              "      <th>genre_name</th>\n",
              "    </tr>\n",
              "  </thead>\n",
              "  <tbody>\n",
              "    <tr>\n",
              "      <th>0</th>\n",
              "      <td>1</td>\n",
              "      <td>young adult</td>\n",
              "    </tr>\n",
              "    <tr>\n",
              "      <th>1</th>\n",
              "      <td>2</td>\n",
              "      <td>fiction</td>\n",
              "    </tr>\n",
              "    <tr>\n",
              "      <th>2</th>\n",
              "      <td>3</td>\n",
              "      <td>science fiction</td>\n",
              "    </tr>\n",
              "    <tr>\n",
              "      <th>3</th>\n",
              "      <td>4</td>\n",
              "      <td>dystopia</td>\n",
              "    </tr>\n",
              "    <tr>\n",
              "      <th>4</th>\n",
              "      <td>5</td>\n",
              "      <td>fantasy</td>\n",
              "    </tr>\n",
              "    <tr>\n",
              "      <th>...</th>\n",
              "      <td>...</td>\n",
              "      <td>...</td>\n",
              "    </tr>\n",
              "    <tr>\n",
              "      <th>1086</th>\n",
              "      <td>1087</td>\n",
              "      <td>nanotechnology</td>\n",
              "    </tr>\n",
              "    <tr>\n",
              "      <th>1087</th>\n",
              "      <td>1088</td>\n",
              "      <td>women</td>\n",
              "    </tr>\n",
              "    <tr>\n",
              "      <th>1088</th>\n",
              "      <td>1089</td>\n",
              "      <td>paranormal-and-fantasy</td>\n",
              "    </tr>\n",
              "    <tr>\n",
              "      <th>1089</th>\n",
              "      <td>1090</td>\n",
              "      <td>cooking-history</td>\n",
              "    </tr>\n",
              "    <tr>\n",
              "      <th>1090</th>\n",
              "      <td>1091</td>\n",
              "      <td>dark-erotic-romance</td>\n",
              "    </tr>\n",
              "  </tbody>\n",
              "</table>\n",
              "<p>1091 rows × 2 columns</p>\n",
              "</div>"
            ],
            "text/plain": [
              "      genre_id              genre_name\n",
              "0            1             young adult\n",
              "1            2                 fiction\n",
              "2            3         science fiction\n",
              "3            4                dystopia\n",
              "4            5                 fantasy\n",
              "...        ...                     ...\n",
              "1086      1087          nanotechnology\n",
              "1087      1088                   women\n",
              "1088      1089  paranormal-and-fantasy\n",
              "1089      1090         cooking-history\n",
              "1090      1091     dark-erotic-romance\n",
              "\n",
              "[1091 rows x 2 columns]"
            ]
          },
          "metadata": {
            "tags": []
          },
          "execution_count": 69
        }
      ]
    },
    {
      "cell_type": "code",
      "metadata": {
        "id": "dRCpgpTTO3ET"
      },
      "source": [
        "# save the modified genre\n",
        "added_genres.to_csv('/content/drive/My Drive/CIS550 Final Project/genres.csv')"
      ],
      "execution_count": null,
      "outputs": []
    },
    {
      "cell_type": "code",
      "metadata": {
        "id": "yKAxnMBHPLKJ",
        "colab": {
          "base_uri": "https://localhost:8080/",
          "height": 419
        },
        "outputId": "be02f4a7-726b-4be1-d043-d40d5003ff55"
      },
      "source": [
        "# replace the genre names in genre_df with genre id\n",
        "\n",
        "query = \"\"\"\n",
        "select author_genre_signle.author_id, added_genres.genre_id from \n",
        "author_genre_signle left join added_genres on author_genre_signle.author_genre = added_genres.genre_name\n",
        "where author_genre_signle.author_genre <> \"\"\n",
        "\"\"\"\n",
        "\n",
        "# schema: book_id, genre_id\n",
        "auhor_has_genre = ps.sqldf(query)\n",
        "auhor_has_genre"
      ],
      "execution_count": null,
      "outputs": [
        {
          "output_type": "execute_result",
          "data": {
            "text/html": [
              "<div>\n",
              "<style scoped>\n",
              "    .dataframe tbody tr th:only-of-type {\n",
              "        vertical-align: middle;\n",
              "    }\n",
              "\n",
              "    .dataframe tbody tr th {\n",
              "        vertical-align: top;\n",
              "    }\n",
              "\n",
              "    .dataframe thead th {\n",
              "        text-align: right;\n",
              "    }\n",
              "</style>\n",
              "<table border=\"1\" class=\"dataframe\">\n",
              "  <thead>\n",
              "    <tr style=\"text-align: right;\">\n",
              "      <th></th>\n",
              "      <th>author_id</th>\n",
              "      <th>genre_id</th>\n",
              "    </tr>\n",
              "  </thead>\n",
              "  <tbody>\n",
              "    <tr>\n",
              "      <th>0</th>\n",
              "      <td>1</td>\n",
              "      <td>2</td>\n",
              "    </tr>\n",
              "    <tr>\n",
              "      <th>1</th>\n",
              "      <td>1</td>\n",
              "      <td>868</td>\n",
              "    </tr>\n",
              "    <tr>\n",
              "      <th>2</th>\n",
              "      <td>2</td>\n",
              "      <td>2</td>\n",
              "    </tr>\n",
              "    <tr>\n",
              "      <th>3</th>\n",
              "      <td>4</td>\n",
              "      <td>869</td>\n",
              "    </tr>\n",
              "    <tr>\n",
              "      <th>4</th>\n",
              "      <td>5</td>\n",
              "      <td>2</td>\n",
              "    </tr>\n",
              "    <tr>\n",
              "      <th>...</th>\n",
              "      <td>...</td>\n",
              "      <td>...</td>\n",
              "    </tr>\n",
              "    <tr>\n",
              "      <th>9654</th>\n",
              "      <td>31981</td>\n",
              "      <td>877</td>\n",
              "    </tr>\n",
              "    <tr>\n",
              "      <th>9655</th>\n",
              "      <td>32016</td>\n",
              "      <td>873</td>\n",
              "    </tr>\n",
              "    <tr>\n",
              "      <th>9656</th>\n",
              "      <td>32016</td>\n",
              "      <td>877</td>\n",
              "    </tr>\n",
              "    <tr>\n",
              "      <th>9657</th>\n",
              "      <td>32017</td>\n",
              "      <td>873</td>\n",
              "    </tr>\n",
              "    <tr>\n",
              "      <th>9658</th>\n",
              "      <td>32033</td>\n",
              "      <td>869</td>\n",
              "    </tr>\n",
              "  </tbody>\n",
              "</table>\n",
              "<p>9659 rows × 2 columns</p>\n",
              "</div>"
            ],
            "text/plain": [
              "      author_id  genre_id\n",
              "0             1         2\n",
              "1             1       868\n",
              "2             2         2\n",
              "3             4       869\n",
              "4             5         2\n",
              "...         ...       ...\n",
              "9654      31981       877\n",
              "9655      32016       873\n",
              "9656      32016       877\n",
              "9657      32017       873\n",
              "9658      32033       869\n",
              "\n",
              "[9659 rows x 2 columns]"
            ]
          },
          "metadata": {
            "tags": []
          },
          "execution_count": 71
        }
      ]
    },
    {
      "cell_type": "code",
      "metadata": {
        "id": "UJ04dPLNPLKR"
      },
      "source": [
        "# save the bookHasGenre dataset\n",
        "auhor_has_genre.to_csv('/content/drive/My Drive/CIS550 Final Project/author_has_genre.csv')"
      ],
      "execution_count": null,
      "outputs": []
    },
    {
      "cell_type": "markdown",
      "metadata": {
        "id": "gh6NZjAwfsvM"
      },
      "source": [
        "## Part 4: Quotes Data Cleaning\n"
      ]
    },
    {
      "cell_type": "markdown",
      "metadata": {
        "id": "Bwtq-4ssHAOO"
      },
      "source": [
        "###4.1 Cleaning data on Kaggle \n",
        "Cleaning and processing on original dataset have already been done at: https://www.kaggle.com/esteechenyiwei/get-quotes-from-sqlite/code \n",
        "\n",
        "(or in the final report: get_quotes_from_sqlite.ipynb)"
      ]
    },
    {
      "cell_type": "markdown",
      "metadata": {
        "id": "jpp9F3DCIdr7"
      },
      "source": [
        "###4.2 Matching books and adding bookID"
      ]
    },
    {
      "cell_type": "code",
      "metadata": {
        "colab": {
          "base_uri": "https://localhost:8080/",
          "height": 419
        },
        "id": "6sq4JUV-GxyQ",
        "outputId": "e167e616-177a-4359-e7c0-67ecef2d4679"
      },
      "source": [
        "quotes_df = pd.read_csv('/content/drive/My Drive/CIS550 Final Project/final cleaned dataset/quotes.csv', header=0)\n",
        "quotes_df = quotes_df[['id', 'content', 'author', 'book']]\n",
        "quotes_df"
      ],
      "execution_count": null,
      "outputs": [
        {
          "output_type": "execute_result",
          "data": {
            "text/html": [
              "<div>\n",
              "<style scoped>\n",
              "    .dataframe tbody tr th:only-of-type {\n",
              "        vertical-align: middle;\n",
              "    }\n",
              "\n",
              "    .dataframe tbody tr th {\n",
              "        vertical-align: top;\n",
              "    }\n",
              "\n",
              "    .dataframe thead th {\n",
              "        text-align: right;\n",
              "    }\n",
              "</style>\n",
              "<table border=\"1\" class=\"dataframe\">\n",
              "  <thead>\n",
              "    <tr style=\"text-align: right;\">\n",
              "      <th></th>\n",
              "      <th>id</th>\n",
              "      <th>content</th>\n",
              "      <th>author</th>\n",
              "      <th>book</th>\n",
              "    </tr>\n",
              "  </thead>\n",
              "  <tbody>\n",
              "    <tr>\n",
              "      <th>0</th>\n",
              "      <td>1</td>\n",
              "      <td>“My life amounts to no more than one drop in a...</td>\n",
              "      <td>David Mitchell</td>\n",
              "      <td>Cloud Atlas</td>\n",
              "    </tr>\n",
              "    <tr>\n",
              "      <th>1</th>\n",
              "      <td>2</td>\n",
              "      <td>“A half-read book is a half-finished love affa...</td>\n",
              "      <td>David Mitchell</td>\n",
              "      <td>Cloud Atlas</td>\n",
              "    </tr>\n",
              "    <tr>\n",
              "      <th>2</th>\n",
              "      <td>3</td>\n",
              "      <td>“Our lives are not our own. We are bound to ot...</td>\n",
              "      <td>David Mitchell</td>\n",
              "      <td>Cloud Atlas</td>\n",
              "    </tr>\n",
              "    <tr>\n",
              "      <th>3</th>\n",
              "      <td>4</td>\n",
              "      <td>“Travel far enough, you meet yourself.”</td>\n",
              "      <td>David Mitchell</td>\n",
              "      <td>Cloud Atlas</td>\n",
              "    </tr>\n",
              "    <tr>\n",
              "      <th>4</th>\n",
              "      <td>5</td>\n",
              "      <td>“Books don't offer real escape, but they can s...</td>\n",
              "      <td>David Mitchell</td>\n",
              "      <td>Cloud Atlas</td>\n",
              "    </tr>\n",
              "    <tr>\n",
              "      <th>...</th>\n",
              "      <td>...</td>\n",
              "      <td>...</td>\n",
              "      <td>...</td>\n",
              "      <td>...</td>\n",
              "    </tr>\n",
              "    <tr>\n",
              "      <th>348080</th>\n",
              "      <td>348081</td>\n",
              "      <td>“It's going to look pretty good, then, isn't i...</td>\n",
              "      <td>Terry Pratchett</td>\n",
              "      <td>Sourcery</td>\n",
              "    </tr>\n",
              "    <tr>\n",
              "      <th>348081</th>\n",
              "      <td>348082</td>\n",
              "      <td>“It was sad music. But it waved its sadness li...</td>\n",
              "      <td>Terry Pratchett</td>\n",
              "      <td>Soul Music</td>\n",
              "    </tr>\n",
              "    <tr>\n",
              "      <th>348082</th>\n",
              "      <td>348083</td>\n",
              "      <td>“The merest accident of microgeography had mea...</td>\n",
              "      <td>Terry Pratchett</td>\n",
              "      <td>Small Gods</td>\n",
              "    </tr>\n",
              "    <tr>\n",
              "      <th>348083</th>\n",
              "      <td>348084</td>\n",
              "      <td>“Look, that's why there's rules, understand? S...</td>\n",
              "      <td>Terry Pratchett</td>\n",
              "      <td>Thief of Time</td>\n",
              "    </tr>\n",
              "    <tr>\n",
              "      <th>348084</th>\n",
              "      <td>348085</td>\n",
              "      <td>“There is a lot of folklore about equestrian s...</td>\n",
              "      <td>Terry Pratchett</td>\n",
              "      <td>I Shall Wear Midnight</td>\n",
              "    </tr>\n",
              "  </tbody>\n",
              "</table>\n",
              "<p>348085 rows × 4 columns</p>\n",
              "</div>"
            ],
            "text/plain": [
              "            id  ...                   book\n",
              "0            1  ...            Cloud Atlas\n",
              "1            2  ...            Cloud Atlas\n",
              "2            3  ...            Cloud Atlas\n",
              "3            4  ...            Cloud Atlas\n",
              "4            5  ...            Cloud Atlas\n",
              "...        ...  ...                    ...\n",
              "348080  348081  ...               Sourcery\n",
              "348081  348082  ...             Soul Music\n",
              "348082  348083  ...             Small Gods\n",
              "348083  348084  ...          Thief of Time\n",
              "348084  348085  ...  I Shall Wear Midnight\n",
              "\n",
              "[348085 rows x 4 columns]"
            ]
          },
          "metadata": {
            "tags": []
          },
          "execution_count": 84
        }
      ]
    },
    {
      "cell_type": "code",
      "metadata": {
        "id": "phJxYsSoI-QO"
      },
      "source": [
        "bookid_df = grdf_cleaned[['title', 'id']]"
      ],
      "execution_count": null,
      "outputs": []
    },
    {
      "cell_type": "code",
      "metadata": {
        "id": "ZD-phkH-J6Q0"
      },
      "source": [
        "query = '''SELECT DISTINCT quotes_df.id AS quotes_id, bookid_df.id AS book_id, title, author, quotes_df.content FROM bookid_df \n",
        "           LEFT JOIN quotes_df ON quotes_df.book = bookid_df.title'''\n",
        "quotes_has_book = ps.sqldf(query).dropna()"
      ],
      "execution_count": null,
      "outputs": []
    },
    {
      "cell_type": "code",
      "metadata": {
        "colab": {
          "base_uri": "https://localhost:8080/",
          "height": 419
        },
        "id": "AbSZ6834LAHE",
        "outputId": "05b10509-6cdd-452c-aac0-4c2124167960"
      },
      "source": [
        "quotes_has_book"
      ],
      "execution_count": null,
      "outputs": [
        {
          "output_type": "execute_result",
          "data": {
            "text/html": [
              "<div>\n",
              "<style scoped>\n",
              "    .dataframe tbody tr th:only-of-type {\n",
              "        vertical-align: middle;\n",
              "    }\n",
              "\n",
              "    .dataframe tbody tr th {\n",
              "        vertical-align: top;\n",
              "    }\n",
              "\n",
              "    .dataframe thead th {\n",
              "        text-align: right;\n",
              "    }\n",
              "</style>\n",
              "<table border=\"1\" class=\"dataframe\">\n",
              "  <thead>\n",
              "    <tr style=\"text-align: right;\">\n",
              "      <th></th>\n",
              "      <th>quotes_id</th>\n",
              "      <th>book_id</th>\n",
              "      <th>title</th>\n",
              "      <th>author</th>\n",
              "      <th>content</th>\n",
              "    </tr>\n",
              "  </thead>\n",
              "  <tbody>\n",
              "    <tr>\n",
              "      <th>0</th>\n",
              "      <td>145306.0</td>\n",
              "      <td>1</td>\n",
              "      <td>The Hunger Games</td>\n",
              "      <td>Suzanne Collins</td>\n",
              "      <td>“If Peeta and I were both to die, or they thou...</td>\n",
              "    </tr>\n",
              "    <tr>\n",
              "      <th>1</th>\n",
              "      <td>145309.0</td>\n",
              "      <td>1</td>\n",
              "      <td>The Hunger Games</td>\n",
              "      <td>Suzanne Collins</td>\n",
              "      <td>“Peeta opens his mouth for the first bite with...</td>\n",
              "    </tr>\n",
              "    <tr>\n",
              "      <th>2</th>\n",
              "      <td>168289.0</td>\n",
              "      <td>1</td>\n",
              "      <td>The Hunger Games</td>\n",
              "      <td>Suzanne Collins</td>\n",
              "      <td>“by Tim O'Brien Cover design by Elizabeth B. P...</td>\n",
              "    </tr>\n",
              "    <tr>\n",
              "      <th>3</th>\n",
              "      <td>83883.0</td>\n",
              "      <td>2</td>\n",
              "      <td>Harry Potter and the Order of the Phoenix</td>\n",
              "      <td>J.K. Rowling</td>\n",
              "      <td>“You should have told her differently,' said H...</td>\n",
              "    </tr>\n",
              "    <tr>\n",
              "      <th>4</th>\n",
              "      <td>123636.0</td>\n",
              "      <td>2</td>\n",
              "      <td>Harry Potter and the Order of the Phoenix</td>\n",
              "      <td>J.K. Rowling</td>\n",
              "      <td>“Just because you have the emotional range of ...</td>\n",
              "    </tr>\n",
              "    <tr>\n",
              "      <th>...</th>\n",
              "      <td>...</td>\n",
              "      <td>...</td>\n",
              "      <td>...</td>\n",
              "      <td>...</td>\n",
              "      <td>...</td>\n",
              "    </tr>\n",
              "    <tr>\n",
              "      <th>528599</th>\n",
              "      <td>221739.0</td>\n",
              "      <td>54296</td>\n",
              "      <td>Running the Books: The Adventures of an Accide...</td>\n",
              "      <td>Avi Steinberg</td>\n",
              "      <td>“In his eagerness to advance onto this new pat...</td>\n",
              "    </tr>\n",
              "    <tr>\n",
              "      <th>528600</th>\n",
              "      <td>221740.0</td>\n",
              "      <td>54296</td>\n",
              "      <td>Running the Books: The Adventures of an Accide...</td>\n",
              "      <td>Avi Steinberg</td>\n",
              "      <td>“but that didn’t stop him from going to church...</td>\n",
              "    </tr>\n",
              "    <tr>\n",
              "      <th>528601</th>\n",
              "      <td>221741.0</td>\n",
              "      <td>54296</td>\n",
              "      <td>Running the Books: The Adventures of an Accide...</td>\n",
              "      <td>Avi Steinberg</td>\n",
              "      <td>“He had no use for guns—these were for people ...</td>\n",
              "    </tr>\n",
              "    <tr>\n",
              "      <th>528602</th>\n",
              "      <td>221742.0</td>\n",
              "      <td>54296</td>\n",
              "      <td>Running the Books: The Adventures of an Accide...</td>\n",
              "      <td>Avi Steinberg</td>\n",
              "      <td>“Though, from my perspective, it was almost ch...</td>\n",
              "    </tr>\n",
              "    <tr>\n",
              "      <th>528603</th>\n",
              "      <td>265181.0</td>\n",
              "      <td>54296</td>\n",
              "      <td>Running the Books: The Adventures of an Accide...</td>\n",
              "      <td>Avi Steinberg</td>\n",
              "      <td>“I flipped to the author’s photo in the Librar...</td>\n",
              "    </tr>\n",
              "  </tbody>\n",
              "</table>\n",
              "<p>487247 rows × 5 columns</p>\n",
              "</div>"
            ],
            "text/plain": [
              "        quotes_id  ...                                            content\n",
              "0        145306.0  ...  “If Peeta and I were both to die, or they thou...\n",
              "1        145309.0  ...  “Peeta opens his mouth for the first bite with...\n",
              "2        168289.0  ...  “by Tim O'Brien Cover design by Elizabeth B. P...\n",
              "3         83883.0  ...  “You should have told her differently,' said H...\n",
              "4        123636.0  ...  “Just because you have the emotional range of ...\n",
              "...           ...  ...                                                ...\n",
              "528599   221739.0  ...  “In his eagerness to advance onto this new pat...\n",
              "528600   221740.0  ...  “but that didn’t stop him from going to church...\n",
              "528601   221741.0  ...  “He had no use for guns—these were for people ...\n",
              "528602   221742.0  ...  “Though, from my perspective, it was almost ch...\n",
              "528603   265181.0  ...  “I flipped to the author’s photo in the Librar...\n",
              "\n",
              "[487247 rows x 5 columns]"
            ]
          },
          "metadata": {
            "tags": []
          },
          "execution_count": 101
        }
      ]
    },
    {
      "cell_type": "code",
      "metadata": {
        "colab": {
          "base_uri": "https://localhost:8080/",
          "height": 173
        },
        "id": "6O6y6HoKM09F",
        "outputId": "b65c51ce-2e50-4b73-a0d0-af5d48debf78"
      },
      "source": [
        "q = '''SELECT * FROM quotes_has_book WHERE quotes_id = 1'''\n",
        "ps.sqldf(q)"
      ],
      "execution_count": null,
      "outputs": [
        {
          "output_type": "execute_result",
          "data": {
            "text/html": [
              "<div>\n",
              "<style scoped>\n",
              "    .dataframe tbody tr th:only-of-type {\n",
              "        vertical-align: middle;\n",
              "    }\n",
              "\n",
              "    .dataframe tbody tr th {\n",
              "        vertical-align: top;\n",
              "    }\n",
              "\n",
              "    .dataframe thead th {\n",
              "        text-align: right;\n",
              "    }\n",
              "</style>\n",
              "<table border=\"1\" class=\"dataframe\">\n",
              "  <thead>\n",
              "    <tr style=\"text-align: right;\">\n",
              "      <th></th>\n",
              "      <th>quotes_id</th>\n",
              "      <th>book_id</th>\n",
              "      <th>title</th>\n",
              "      <th>author</th>\n",
              "      <th>content</th>\n",
              "    </tr>\n",
              "  </thead>\n",
              "  <tbody>\n",
              "    <tr>\n",
              "      <th>0</th>\n",
              "      <td>1.0</td>\n",
              "      <td>399</td>\n",
              "      <td>Cloud Atlas</td>\n",
              "      <td>David Mitchell</td>\n",
              "      <td>“My life amounts to no more than one drop in a...</td>\n",
              "    </tr>\n",
              "    <tr>\n",
              "      <th>1</th>\n",
              "      <td>1.0</td>\n",
              "      <td>13067</td>\n",
              "      <td>Cloud Atlas</td>\n",
              "      <td>David Mitchell</td>\n",
              "      <td>“My life amounts to no more than one drop in a...</td>\n",
              "    </tr>\n",
              "    <tr>\n",
              "      <th>2</th>\n",
              "      <td>1.0</td>\n",
              "      <td>21640</td>\n",
              "      <td>Cloud Atlas</td>\n",
              "      <td>David Mitchell</td>\n",
              "      <td>“My life amounts to no more than one drop in a...</td>\n",
              "    </tr>\n",
              "    <tr>\n",
              "      <th>3</th>\n",
              "      <td>1.0</td>\n",
              "      <td>46354</td>\n",
              "      <td>Cloud Atlas</td>\n",
              "      <td>David Mitchell</td>\n",
              "      <td>“My life amounts to no more than one drop in a...</td>\n",
              "    </tr>\n",
              "  </tbody>\n",
              "</table>\n",
              "</div>"
            ],
            "text/plain": [
              "   quotes_id  ...                                            content\n",
              "0        1.0  ...  “My life amounts to no more than one drop in a...\n",
              "1        1.0  ...  “My life amounts to no more than one drop in a...\n",
              "2        1.0  ...  “My life amounts to no more than one drop in a...\n",
              "3        1.0  ...  “My life amounts to no more than one drop in a...\n",
              "\n",
              "[4 rows x 5 columns]"
            ]
          },
          "metadata": {
            "tags": []
          },
          "execution_count": 102
        }
      ]
    },
    {
      "cell_type": "markdown",
      "metadata": {
        "id": "g8CGzn8SOOo_"
      },
      "source": [
        "^I was a bit confused why there were even more rows after merging - and I realized that it's because there could be multiple editions of the same book, shown through different book_ids of the same title/author combination. "
      ]
    },
    {
      "cell_type": "markdown",
      "metadata": {
        "id": "rsWhOYAvgbIu"
      },
      "source": [
        "## Part 5: Saving all dataframes"
      ]
    },
    {
      "cell_type": "code",
      "metadata": {
        "id": "RYvdrenaElkT",
        "colab": {
          "base_uri": "https://localhost:8080/"
        },
        "outputId": "0c47f314-8eb9-461a-f3bb-6b87ba5efb4f"
      },
      "source": [
        "grdf_cleaned = grdf_cleaned.drop(['genres', 'authors'], axis=1)\n"
      ],
      "execution_count": null,
      "outputs": [
        {
          "output_type": "execute_result",
          "data": {
            "text/plain": [
              "Index(['description', 'page_num', 'rating', 'rating_num', 'review_num',\n",
              "       'title', 'image_url', 'id'],\n",
              "      dtype='object')"
            ]
          },
          "metadata": {
            "tags": []
          },
          "execution_count": 99
        }
      ]
    },
    {
      "cell_type": "code",
      "metadata": {
        "id": "XlPt0hfhTZWb"
      },
      "source": [
        "def f(s):\n",
        "  if pd.isnull(s):\n",
        "    return 0\n",
        "  else:\n",
        "    return int((str(s).split(\" \"))[0]) \n",
        "\n",
        "grdf_cleaned['page_num'] = grdf_cleaned['page_num'].apply(lambda x: f(x))\n"
      ],
      "execution_count": null,
      "outputs": []
    },
    {
      "cell_type": "code",
      "metadata": {
        "colab": {
          "base_uri": "https://localhost:8080/",
          "height": 691
        },
        "id": "hw_AEw7_UgTi",
        "outputId": "de251ee1-5f5c-4416-a860-8e9b43566ee5"
      },
      "source": [
        "grdf_cleaned"
      ],
      "execution_count": null,
      "outputs": [
        {
          "output_type": "execute_result",
          "data": {
            "text/html": [
              "<div>\n",
              "<style scoped>\n",
              "    .dataframe tbody tr th:only-of-type {\n",
              "        vertical-align: middle;\n",
              "    }\n",
              "\n",
              "    .dataframe tbody tr th {\n",
              "        vertical-align: top;\n",
              "    }\n",
              "\n",
              "    .dataframe thead th {\n",
              "        text-align: right;\n",
              "    }\n",
              "</style>\n",
              "<table border=\"1\" class=\"dataframe\">\n",
              "  <thead>\n",
              "    <tr style=\"text-align: right;\">\n",
              "      <th></th>\n",
              "      <th>description</th>\n",
              "      <th>page_num</th>\n",
              "      <th>rating</th>\n",
              "      <th>rating_num</th>\n",
              "      <th>review_num</th>\n",
              "      <th>title</th>\n",
              "      <th>image_url</th>\n",
              "      <th>id</th>\n",
              "    </tr>\n",
              "  </thead>\n",
              "  <tbody>\n",
              "    <tr>\n",
              "      <th>0</th>\n",
              "      <td>Winning will make you famous. Losing means cer...</td>\n",
              "      <td>374</td>\n",
              "      <td>4.33</td>\n",
              "      <td>5519135</td>\n",
              "      <td>160706</td>\n",
              "      <td>The Hunger Games</td>\n",
              "      <td>https://images.gr-assets.com/books/1447303603l...</td>\n",
              "      <td>1</td>\n",
              "    </tr>\n",
              "    <tr>\n",
              "      <th>1</th>\n",
              "      <td>There is a door at the end of a silent corrido...</td>\n",
              "      <td>870</td>\n",
              "      <td>4.48</td>\n",
              "      <td>2041594</td>\n",
              "      <td>33264</td>\n",
              "      <td>Harry Potter and the Order of the Phoenix</td>\n",
              "      <td>https://images.gr-assets.com/books/1255614970l...</td>\n",
              "      <td>2</td>\n",
              "    </tr>\n",
              "    <tr>\n",
              "      <th>2</th>\n",
              "      <td>The unforgettable novel of a childhood in a sl...</td>\n",
              "      <td>324</td>\n",
              "      <td>4.27</td>\n",
              "      <td>3745197</td>\n",
              "      <td>79450</td>\n",
              "      <td>To Kill a Mockingbird</td>\n",
              "      <td>https://images.gr-assets.com/books/1361975680l...</td>\n",
              "      <td>3</td>\n",
              "    </tr>\n",
              "    <tr>\n",
              "      <th>3</th>\n",
              "      <td>«È cosa ormai risaputa che a uno scapolo in po...</td>\n",
              "      <td>279</td>\n",
              "      <td>4.25</td>\n",
              "      <td>2453620</td>\n",
              "      <td>54322</td>\n",
              "      <td>Pride and Prejudice</td>\n",
              "      <td>https://images.gr-assets.com/books/1320399351l...</td>\n",
              "      <td>4</td>\n",
              "    </tr>\n",
              "    <tr>\n",
              "      <th>4</th>\n",
              "      <td>About three things I was absolutely positive.F...</td>\n",
              "      <td>498</td>\n",
              "      <td>3.58</td>\n",
              "      <td>4281268</td>\n",
              "      <td>97991</td>\n",
              "      <td>Twilight</td>\n",
              "      <td>https://images.gr-assets.com/books/1361039443l...</td>\n",
              "      <td>5</td>\n",
              "    </tr>\n",
              "    <tr>\n",
              "      <th>...</th>\n",
              "      <td>...</td>\n",
              "      <td>...</td>\n",
              "      <td>...</td>\n",
              "      <td>...</td>\n",
              "      <td>...</td>\n",
              "      <td>...</td>\n",
              "      <td>...</td>\n",
              "      <td>...</td>\n",
              "    </tr>\n",
              "    <tr>\n",
              "      <th>54296</th>\n",
              "      <td>In this fearless and half-crazy story, Howard ...</td>\n",
              "      <td>256</td>\n",
              "      <td>3.37</td>\n",
              "      <td>27</td>\n",
              "      <td>9</td>\n",
              "      <td>Taking the Field: A Fan's Quest to Run the Tea...</td>\n",
              "      <td>https://images.gr-assets.com/books/1312074392l...</td>\n",
              "      <td>54297</td>\n",
              "    </tr>\n",
              "    <tr>\n",
              "      <th>54297</th>\n",
              "      <td>From the icons of the game to the players who ...</td>\n",
              "      <td>256</td>\n",
              "      <td>3.97</td>\n",
              "      <td>34</td>\n",
              "      <td>5</td>\n",
              "      <td>The Baseball Talmud: Koufax, Greenberg, and th...</td>\n",
              "      <td>https://images.gr-assets.com/books/1348841629l...</td>\n",
              "      <td>54298</td>\n",
              "    </tr>\n",
              "    <tr>\n",
              "      <th>54298</th>\n",
              "      <td>NaN</td>\n",
              "      <td>0</td>\n",
              "      <td>3.66</td>\n",
              "      <td>32</td>\n",
              "      <td>3</td>\n",
              "      <td>Wilpon's Folly - The Story of a Man, His Fortu...</td>\n",
              "      <td>https://images.gr-assets.com/books/1394277097l...</td>\n",
              "      <td>54299</td>\n",
              "    </tr>\n",
              "    <tr>\n",
              "      <th>54299</th>\n",
              "      <td>Soon to be a major motion picture, from Brad P...</td>\n",
              "      <td>272</td>\n",
              "      <td>3.82</td>\n",
              "      <td>867</td>\n",
              "      <td>187</td>\n",
              "      <td>He Wanted the Moon: The Madness and Medical Ge...</td>\n",
              "      <td>https://images.gr-assets.com/books/1403192135l...</td>\n",
              "      <td>54300</td>\n",
              "    </tr>\n",
              "    <tr>\n",
              "      <th>54300</th>\n",
              "      <td>The Anthology and the Rise of the Novel brings...</td>\n",
              "      <td>236</td>\n",
              "      <td>3.58</td>\n",
              "      <td>12</td>\n",
              "      <td>3</td>\n",
              "      <td>The Anthology and the Rise of the Novel: From ...</td>\n",
              "      <td>https://images.gr-assets.com/books/1349014225l...</td>\n",
              "      <td>54301</td>\n",
              "    </tr>\n",
              "  </tbody>\n",
              "</table>\n",
              "<p>54301 rows × 8 columns</p>\n",
              "</div>"
            ],
            "text/plain": [
              "                                             description  ...     id\n",
              "0      Winning will make you famous. Losing means cer...  ...      1\n",
              "1      There is a door at the end of a silent corrido...  ...      2\n",
              "2      The unforgettable novel of a childhood in a sl...  ...      3\n",
              "3      «È cosa ormai risaputa che a uno scapolo in po...  ...      4\n",
              "4      About three things I was absolutely positive.F...  ...      5\n",
              "...                                                  ...  ...    ...\n",
              "54296  In this fearless and half-crazy story, Howard ...  ...  54297\n",
              "54297  From the icons of the game to the players who ...  ...  54298\n",
              "54298                                                NaN  ...  54299\n",
              "54299  Soon to be a major motion picture, from Brad P...  ...  54300\n",
              "54300  The Anthology and the Rise of the Novel brings...  ...  54301\n",
              "\n",
              "[54301 rows x 8 columns]"
            ]
          },
          "metadata": {
            "tags": []
          },
          "execution_count": 110
        }
      ]
    },
    {
      "cell_type": "code",
      "metadata": {
        "id": "6POv93I5S6Es"
      },
      "source": [
        "# reorder columns \n",
        "cols = ['id', 'title', 'description', 'page_num', 'rating', 'rating_num', 'review_num',\n",
        "       'image_url']\n",
        "grdf_cleaned = grdf_cleaned.reindex(columns=cols)"
      ],
      "execution_count": null,
      "outputs": []
    },
    {
      "cell_type": "code",
      "metadata": {
        "colab": {
          "base_uri": "https://localhost:8080/",
          "height": 725
        },
        "id": "NAZYvuqkUvsd",
        "outputId": "89290cae-7a4d-4d78-cf33-cfded18df0ed"
      },
      "source": [
        "grdf_cleaned"
      ],
      "execution_count": null,
      "outputs": [
        {
          "output_type": "execute_result",
          "data": {
            "text/html": [
              "<div>\n",
              "<style scoped>\n",
              "    .dataframe tbody tr th:only-of-type {\n",
              "        vertical-align: middle;\n",
              "    }\n",
              "\n",
              "    .dataframe tbody tr th {\n",
              "        vertical-align: top;\n",
              "    }\n",
              "\n",
              "    .dataframe thead th {\n",
              "        text-align: right;\n",
              "    }\n",
              "</style>\n",
              "<table border=\"1\" class=\"dataframe\">\n",
              "  <thead>\n",
              "    <tr style=\"text-align: right;\">\n",
              "      <th></th>\n",
              "      <th>id</th>\n",
              "      <th>title</th>\n",
              "      <th>description</th>\n",
              "      <th>page_num</th>\n",
              "      <th>rating</th>\n",
              "      <th>rating_num</th>\n",
              "      <th>review_num</th>\n",
              "      <th>image_url</th>\n",
              "    </tr>\n",
              "  </thead>\n",
              "  <tbody>\n",
              "    <tr>\n",
              "      <th>0</th>\n",
              "      <td>1</td>\n",
              "      <td>The Hunger Games</td>\n",
              "      <td>Winning will make you famous. Losing means cer...</td>\n",
              "      <td>374</td>\n",
              "      <td>4.33</td>\n",
              "      <td>5519135</td>\n",
              "      <td>160706</td>\n",
              "      <td>https://images.gr-assets.com/books/1447303603l...</td>\n",
              "    </tr>\n",
              "    <tr>\n",
              "      <th>1</th>\n",
              "      <td>2</td>\n",
              "      <td>Harry Potter and the Order of the Phoenix</td>\n",
              "      <td>There is a door at the end of a silent corrido...</td>\n",
              "      <td>870</td>\n",
              "      <td>4.48</td>\n",
              "      <td>2041594</td>\n",
              "      <td>33264</td>\n",
              "      <td>https://images.gr-assets.com/books/1255614970l...</td>\n",
              "    </tr>\n",
              "    <tr>\n",
              "      <th>2</th>\n",
              "      <td>3</td>\n",
              "      <td>To Kill a Mockingbird</td>\n",
              "      <td>The unforgettable novel of a childhood in a sl...</td>\n",
              "      <td>324</td>\n",
              "      <td>4.27</td>\n",
              "      <td>3745197</td>\n",
              "      <td>79450</td>\n",
              "      <td>https://images.gr-assets.com/books/1361975680l...</td>\n",
              "    </tr>\n",
              "    <tr>\n",
              "      <th>3</th>\n",
              "      <td>4</td>\n",
              "      <td>Pride and Prejudice</td>\n",
              "      <td>«È cosa ormai risaputa che a uno scapolo in po...</td>\n",
              "      <td>279</td>\n",
              "      <td>4.25</td>\n",
              "      <td>2453620</td>\n",
              "      <td>54322</td>\n",
              "      <td>https://images.gr-assets.com/books/1320399351l...</td>\n",
              "    </tr>\n",
              "    <tr>\n",
              "      <th>4</th>\n",
              "      <td>5</td>\n",
              "      <td>Twilight</td>\n",
              "      <td>About three things I was absolutely positive.F...</td>\n",
              "      <td>498</td>\n",
              "      <td>3.58</td>\n",
              "      <td>4281268</td>\n",
              "      <td>97991</td>\n",
              "      <td>https://images.gr-assets.com/books/1361039443l...</td>\n",
              "    </tr>\n",
              "    <tr>\n",
              "      <th>...</th>\n",
              "      <td>...</td>\n",
              "      <td>...</td>\n",
              "      <td>...</td>\n",
              "      <td>...</td>\n",
              "      <td>...</td>\n",
              "      <td>...</td>\n",
              "      <td>...</td>\n",
              "      <td>...</td>\n",
              "    </tr>\n",
              "    <tr>\n",
              "      <th>54296</th>\n",
              "      <td>54297</td>\n",
              "      <td>Taking the Field: A Fan's Quest to Run the Tea...</td>\n",
              "      <td>In this fearless and half-crazy story, Howard ...</td>\n",
              "      <td>256</td>\n",
              "      <td>3.37</td>\n",
              "      <td>27</td>\n",
              "      <td>9</td>\n",
              "      <td>https://images.gr-assets.com/books/1312074392l...</td>\n",
              "    </tr>\n",
              "    <tr>\n",
              "      <th>54297</th>\n",
              "      <td>54298</td>\n",
              "      <td>The Baseball Talmud: Koufax, Greenberg, and th...</td>\n",
              "      <td>From the icons of the game to the players who ...</td>\n",
              "      <td>256</td>\n",
              "      <td>3.97</td>\n",
              "      <td>34</td>\n",
              "      <td>5</td>\n",
              "      <td>https://images.gr-assets.com/books/1348841629l...</td>\n",
              "    </tr>\n",
              "    <tr>\n",
              "      <th>54298</th>\n",
              "      <td>54299</td>\n",
              "      <td>Wilpon's Folly - The Story of a Man, His Fortu...</td>\n",
              "      <td>NaN</td>\n",
              "      <td>0</td>\n",
              "      <td>3.66</td>\n",
              "      <td>32</td>\n",
              "      <td>3</td>\n",
              "      <td>https://images.gr-assets.com/books/1394277097l...</td>\n",
              "    </tr>\n",
              "    <tr>\n",
              "      <th>54299</th>\n",
              "      <td>54300</td>\n",
              "      <td>He Wanted the Moon: The Madness and Medical Ge...</td>\n",
              "      <td>Soon to be a major motion picture, from Brad P...</td>\n",
              "      <td>272</td>\n",
              "      <td>3.82</td>\n",
              "      <td>867</td>\n",
              "      <td>187</td>\n",
              "      <td>https://images.gr-assets.com/books/1403192135l...</td>\n",
              "    </tr>\n",
              "    <tr>\n",
              "      <th>54300</th>\n",
              "      <td>54301</td>\n",
              "      <td>The Anthology and the Rise of the Novel: From ...</td>\n",
              "      <td>The Anthology and the Rise of the Novel brings...</td>\n",
              "      <td>236</td>\n",
              "      <td>3.58</td>\n",
              "      <td>12</td>\n",
              "      <td>3</td>\n",
              "      <td>https://images.gr-assets.com/books/1349014225l...</td>\n",
              "    </tr>\n",
              "  </tbody>\n",
              "</table>\n",
              "<p>54301 rows × 8 columns</p>\n",
              "</div>"
            ],
            "text/plain": [
              "          id  ...                                          image_url\n",
              "0          1  ...  https://images.gr-assets.com/books/1447303603l...\n",
              "1          2  ...  https://images.gr-assets.com/books/1255614970l...\n",
              "2          3  ...  https://images.gr-assets.com/books/1361975680l...\n",
              "3          4  ...  https://images.gr-assets.com/books/1320399351l...\n",
              "4          5  ...  https://images.gr-assets.com/books/1361039443l...\n",
              "...      ...  ...                                                ...\n",
              "54296  54297  ...  https://images.gr-assets.com/books/1312074392l...\n",
              "54297  54298  ...  https://images.gr-assets.com/books/1348841629l...\n",
              "54298  54299  ...  https://images.gr-assets.com/books/1394277097l...\n",
              "54299  54300  ...  https://images.gr-assets.com/books/1403192135l...\n",
              "54300  54301  ...  https://images.gr-assets.com/books/1349014225l...\n",
              "\n",
              "[54301 rows x 8 columns]"
            ]
          },
          "metadata": {
            "tags": []
          },
          "execution_count": 112
        }
      ]
    },
    {
      "cell_type": "code",
      "metadata": {
        "id": "8qnsszsDBRz1"
      },
      "source": [
        "grdf_cleaned.to_csv('/content/drive/My Drive/CIS550 Final Project/books.csv')"
      ],
      "execution_count": null,
      "outputs": []
    },
    {
      "cell_type": "code",
      "metadata": {
        "id": "3n99EDHoNfgN"
      },
      "source": [
        "quotes_has_book.to_csv('/content/drive/My Drive/CIS550 Final Project/quotes_id.csv')"
      ],
      "execution_count": null,
      "outputs": []
    }
  ]
}